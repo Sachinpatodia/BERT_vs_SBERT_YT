{
 "cells": [
  {
   "cell_type": "markdown",
   "id": "915852c7",
   "metadata": {},
   "source": [
    "<h1><center> RECOMMENDATION SYSTEM"
   ]
  },
  {
   "cell_type": "markdown",
   "id": "a5ba0822",
   "metadata": {},
   "source": [
    "## Importing necessary libraries"
   ]
  },
  {
   "cell_type": "code",
   "execution_count": 1,
   "id": "cabb9c4f",
   "metadata": {},
   "outputs": [],
   "source": [
    "import tensorflow as tf\n",
    "import tensorflow_hub as hub\n",
    "import numpy as np\n",
    "import pandas as pd\n",
    "import seaborn as sns\n",
    "import matplotlib.pyplot as plt\n",
    "from sklearn.model_selection import train_test_split\n",
    "from sklearn.metrics import confusion_matrix, classification_report\n",
    "import tensorflow_text as text\n",
    "import time"
   ]
  },
  {
   "cell_type": "code",
   "execution_count": 2,
   "id": "f7eaabb8",
   "metadata": {},
   "outputs": [],
   "source": [
    "import sklearn.metrics as metrics\n"
   ]
  },
  {
   "cell_type": "code",
   "execution_count": 3,
   "id": "09adf6bd",
   "metadata": {},
   "outputs": [],
   "source": [
    "import re\n"
   ]
  },
  {
   "cell_type": "markdown",
   "id": "6bea0c8a",
   "metadata": {},
   "source": [
    "## Reading the dataset"
   ]
  },
  {
   "cell_type": "code",
   "execution_count": 4,
   "id": "b149447e",
   "metadata": {},
   "outputs": [],
   "source": [
    "youtube = pd.read_csv('GB_videos_data.csv')"
   ]
  },
  {
   "cell_type": "code",
   "execution_count": 6,
   "id": "a8a8296e",
   "metadata": {},
   "outputs": [],
   "source": [
    "youtube = pd.read_csv('GB_videos_data.csv')\n",
    "\n",
    "youtube = youtube.dropna()\n",
    "youtube = youtube.drop_duplicates(subset = ['description'])\n",
    "youtube = youtube[['title', 'description']]\n",
    "youtube.columns = ['Title', 'Description']\n",
    "youtube['cleaned_description'] = youtube['Description'].apply(lambda x: x.lower())\n",
    "youtube['cleaned_description'] = youtube['cleaned_description'].apply(lambda x: re.sub('[^A-Za-z0-9]+', ' ', x))"
   ]
  },
  {
   "cell_type": "code",
   "execution_count": 7,
   "id": "d2ec5634",
   "metadata": {},
   "outputs": [
    {
     "data": {
      "text/plain": [
       "(1688, 3)"
      ]
     },
     "execution_count": 7,
     "metadata": {},
     "output_type": "execute_result"
    }
   ],
   "source": [
    "youtube.shape"
   ]
  },
  {
   "cell_type": "code",
   "execution_count": 8,
   "id": "4bef0b05",
   "metadata": {},
   "outputs": [],
   "source": [
    "preprocessor = hub.KerasLayer(\"https://tfhub.dev/tensorflow/bert_en_uncased_preprocess/3\")\n",
    "encoder = hub.KerasLayer(\"https://tfhub.dev/tensorflow/small_bert/bert_en_uncased_L-2_H-128_A-2/1\", trainable=True)"
   ]
  },
  {
   "cell_type": "markdown",
   "id": "9d1a8798",
   "metadata": {},
   "source": [
    "## 3) BERT on Description Column"
   ]
  },
  {
   "cell_type": "code",
   "execution_count": 9,
   "id": "4f99df1d",
   "metadata": {},
   "outputs": [],
   "source": [
    "\n",
    "\n",
    "def get_bert_embeddings(text, preprocessor, encoder):\n",
    "    text_input = tf.keras.layers.Input(shape=(), dtype=tf.string)\n",
    "    encoder_inputs = preprocessor(text_input)\n",
    "    outputs = encoder(encoder_inputs)\n",
    "    embedding_model = tf.keras.Model(text_input, outputs['pooled_output'])\n",
    "    sentences = tf.constant([text])\n",
    "    return embedding_model(sentences)\n"
   ]
  },
  {
   "cell_type": "code",
   "execution_count": 10,
   "id": "efeeb9d9",
   "metadata": {},
   "outputs": [
    {
     "name": "stdout",
     "output_type": "stream",
     "text": [
      "--- 96.80083656311035 seconds ---\n"
     ]
    }
   ],
   "source": [
    "start_time = time.time()\n",
    "youtube['encodings'] = youtube['cleaned_description'].apply(lambda x: get_bert_embeddings(x, preprocessor, encoder))\n",
    "print(\"--- %s seconds ---\" % (time.time() - start_time))"
   ]
  },
  {
   "cell_type": "markdown",
   "id": "6be4f9a5",
   "metadata": {},
   "source": [
    "##### The model took approximately 97 second to run 1370 rows"
   ]
  },
  {
   "cell_type": "code",
   "execution_count": 11,
   "id": "0092b84e",
   "metadata": {},
   "outputs": [
    {
     "data": {
      "text/plain": [
       "<tf.Tensor: shape=(1, 128), dtype=float32, numpy=\n",
       "array([[-0.99498975,  0.0361543 , -0.18411422,  0.5946224 , -0.9361536 ,\n",
       "         0.9088471 , -0.9194194 , -0.9567703 , -0.01298081,  0.1843331 ,\n",
       "        -0.63755476, -0.05187884,  0.19324712, -0.18263792, -0.01430518,\n",
       "         0.25525442,  0.89852774,  0.20013627, -0.69245666, -0.8345919 ,\n",
       "         0.7312774 , -0.10114988, -0.74197346, -0.978764  , -0.999505  ,\n",
       "         0.04705126, -0.9767469 ,  0.9805024 ,  0.87064797, -0.00470657,\n",
       "         0.06757554, -0.16520114, -0.30839452, -0.8302583 ,  0.95305634,\n",
       "         0.8794967 , -0.9858387 ,  0.02577849,  0.22813545, -0.8167166 ,\n",
       "         0.4067616 ,  0.67985296, -0.2039703 , -0.26841637,  0.3245909 ,\n",
       "        -0.1106023 ,  0.51197404,  0.94863063, -0.6490156 ,  0.9955804 ,\n",
       "         0.9421187 , -0.9944358 ,  0.06481232,  0.94674283,  0.9242265 ,\n",
       "        -0.12704712, -0.03015532, -0.06189512,  0.8896739 , -0.9274301 ,\n",
       "         0.21583022,  0.824853  ,  0.44138518,  0.16979203,  0.2576085 ,\n",
       "        -0.43696973,  0.25202394, -0.18930341,  0.5042007 ,  0.8702516 ,\n",
       "         0.97178763, -0.041255  , -0.77929217,  0.05496098, -0.05173252,\n",
       "        -0.95408505,  0.6270453 , -0.10682701, -0.9893045 , -0.05800969,\n",
       "        -0.4294926 ,  0.08534835, -0.68462926, -0.99376464,  0.9622696 ,\n",
       "         0.29286987,  0.82793194, -0.99684894, -0.94145685,  0.37302536,\n",
       "         0.5173957 ,  0.96939856, -0.43220422,  0.8643856 ,  0.9665347 ,\n",
       "         0.9883019 , -0.9140743 , -0.29627728, -0.59375906, -0.582467  ,\n",
       "        -0.3533677 , -0.06113293, -0.91074985, -0.8522083 , -0.8421207 ,\n",
       "        -0.54338694, -0.9999329 , -0.71273285, -0.09923229,  0.9862761 ,\n",
       "         0.77398926,  0.6677529 , -0.86514986,  0.78231484,  0.35253787,\n",
       "         0.04369662, -0.17783669,  0.24240991,  0.04355504, -0.9888618 ,\n",
       "         0.13324305, -0.9657285 , -0.96788925,  0.85724187, -0.41464257,\n",
       "        -0.16225196,  0.9824063 ,  0.92849934]], dtype=float32)>"
      ]
     },
     "execution_count": 11,
     "metadata": {},
     "output_type": "execute_result"
    }
   ],
   "source": [
    "youtube['encodings'][0]"
   ]
  },
  {
   "cell_type": "code",
   "execution_count": 17,
   "id": "df2ddf86",
   "metadata": {},
   "outputs": [
    {
     "name": "stdout",
     "output_type": "stream",
     "text": [
      "Action Hollywood Thrillers\n"
     ]
    }
   ],
   "source": [
    "def preprocess_text():\n",
    "    text = input()\n",
    "    text = text.lower()\n",
    "    text = re.sub('[^A-Za-z0-9]+', ' ', text)\n",
    "    return text\n",
    "  \n",
    "query_text = preprocess_text()\n",
    "query_encoding = get_bert_embeddings(query_text, preprocessor, encoder)\n",
    "\n",
    "youtube['similarity_score'] = youtube['encodings'].apply(lambda x: metrics.pairwise.cosine_similarity(x, query_encoding)[0][0])\n",
    "df_results = youtube.sort_values(by=['similarity_score'], ascending=False)"
   ]
  },
  {
   "cell_type": "code",
   "execution_count": 18,
   "id": "ecf87d61",
   "metadata": {},
   "outputs": [
    {
     "data": {
      "text/html": [
       "<div>\n",
       "<style scoped>\n",
       "    .dataframe tbody tr th:only-of-type {\n",
       "        vertical-align: middle;\n",
       "    }\n",
       "\n",
       "    .dataframe tbody tr th {\n",
       "        vertical-align: top;\n",
       "    }\n",
       "\n",
       "    .dataframe thead th {\n",
       "        text-align: right;\n",
       "    }\n",
       "</style>\n",
       "<table border=\"1\" class=\"dataframe\">\n",
       "  <thead>\n",
       "    <tr style=\"text-align: right;\">\n",
       "      <th></th>\n",
       "      <th>Title</th>\n",
       "      <th>Description</th>\n",
       "      <th>cleaned_description</th>\n",
       "      <th>encodings</th>\n",
       "      <th>similarity_score</th>\n",
       "    </tr>\n",
       "  </thead>\n",
       "  <tbody>\n",
       "    <tr>\n",
       "      <th>150</th>\n",
       "      <td>Pyra / Mythra in Smash!!! Nice!!!</td>\n",
       "      <td>neat#SmashBros #Reaction #Episode1</td>\n",
       "      <td>neat smashbros reaction episode1</td>\n",
       "      <td>((tf.Tensor(-0.99999774, shape=(), dtype=float...</td>\n",
       "      <td>0.960134</td>\n",
       "    </tr>\n",
       "    <tr>\n",
       "      <th>1631</th>\n",
       "      <td>i dont know how to play minecraft</td>\n",
       "      <td>my twitch is https://www.twitch.tv/dannygoonza...</td>\n",
       "      <td>my twitch is https www twitch tv dannygoonzale...</td>\n",
       "      <td>((tf.Tensor(-0.99998415, shape=(), dtype=float...</td>\n",
       "      <td>0.954832</td>\n",
       "    </tr>\n",
       "    <tr>\n",
       "      <th>3413</th>\n",
       "      <td>Dana White is Betting $1 Millon that Jake Paul...</td>\n",
       "      <td>Let's make it a $2M bet Dana...Watch me fight ...</td>\n",
       "      <td>let s make it a 2m bet dana watch me fight on ...</td>\n",
       "      <td>((tf.Tensor(-0.99997956, shape=(), dtype=float...</td>\n",
       "      <td>0.946733</td>\n",
       "    </tr>\n",
       "    <tr>\n",
       "      <th>5042</th>\n",
       "      <td>Turning the garden into a trampoline park.</td>\n",
       "      <td>►Making my first trampoline.. and probably the...</td>\n",
       "      <td>making my first trampoline and probably the l...</td>\n",
       "      <td>((tf.Tensor(-0.999972, shape=(), dtype=float32...</td>\n",
       "      <td>0.942316</td>\n",
       "    </tr>\n",
       "    <tr>\n",
       "      <th>1221</th>\n",
       "      <td>I JOINED 1%...</td>\n",
       "      <td>My INSANE introduction montage: https://www.yo...</td>\n",
       "      <td>my insane introduction montage https www youtu...</td>\n",
       "      <td>((tf.Tensor(-0.99995816, shape=(), dtype=float...</td>\n",
       "      <td>0.941494</td>\n",
       "    </tr>\n",
       "    <tr>\n",
       "      <th>...</th>\n",
       "      <td>...</td>\n",
       "      <td>...</td>\n",
       "      <td>...</td>\n",
       "      <td>...</td>\n",
       "      <td>...</td>\n",
       "    </tr>\n",
       "    <tr>\n",
       "      <th>19</th>\n",
       "      <td>PARIS SAINT-GERMAIN - AS MONACO (0 - 2) - High...</td>\n",
       "      <td>PARIS SAINT-GERMAIN vs AS MONACO Highlights (0...</td>\n",
       "      <td>paris saint germain vs as monaco highlights 0 ...</td>\n",
       "      <td>((tf.Tensor(-0.9992719, shape=(), dtype=float3...</td>\n",
       "      <td>0.474990</td>\n",
       "    </tr>\n",
       "    <tr>\n",
       "      <th>718</th>\n",
       "      <td>PARIS SAINT-GERMAIN - AS MONACO (0 - 2) - High...</td>\n",
       "      <td>PARIS SAINT-GERMAIN vs AS MONACO Highlights (0...</td>\n",
       "      <td>paris saint germain vs as monaco highlights 0 ...</td>\n",
       "      <td>((tf.Tensor(-0.9992719, shape=(), dtype=float3...</td>\n",
       "      <td>0.474990</td>\n",
       "    </tr>\n",
       "    <tr>\n",
       "      <th>5051</th>\n",
       "      <td>Game Recap: Lakers 116, Hornets 105</td>\n",
       "      <td>Led by LeBron James 37 points, eight rebounds ...</td>\n",
       "      <td>led by lebron james 37 points eight rebounds a...</td>\n",
       "      <td>((tf.Tensor(-0.81145954, shape=(), dtype=float...</td>\n",
       "      <td>0.460408</td>\n",
       "    </tr>\n",
       "    <tr>\n",
       "      <th>4233</th>\n",
       "      <td>PARIS SAINT-GERMAIN - FC NANTES (1 - 2) - High...</td>\n",
       "      <td>PARIS SAINT-GERMAIN vs FC NANTES Highlights (1...</td>\n",
       "      <td>paris saint germain vs fc nantes highlights 1 ...</td>\n",
       "      <td>((tf.Tensor(-0.99487877, shape=(), dtype=float...</td>\n",
       "      <td>0.427039</td>\n",
       "    </tr>\n",
       "    <tr>\n",
       "      <th>5618</th>\n",
       "      <td>OLYMPIQUE LYONNAIS - PARIS SAINT-GERMAIN (2 - ...</td>\n",
       "      <td>OLYMPIQUE LYONNAIS vs PARIS SAINT-GERMAIN High...</td>\n",
       "      <td>olympique lyonnais vs paris saint germain high...</td>\n",
       "      <td>((tf.Tensor(-0.9971845, shape=(), dtype=float3...</td>\n",
       "      <td>0.420420</td>\n",
       "    </tr>\n",
       "  </tbody>\n",
       "</table>\n",
       "<p>1688 rows × 5 columns</p>\n",
       "</div>"
      ],
      "text/plain": [
       "                                                  Title  \\\n",
       "150                   Pyra / Mythra in Smash!!! Nice!!!   \n",
       "1631                  i dont know how to play minecraft   \n",
       "3413  Dana White is Betting $1 Millon that Jake Paul...   \n",
       "5042         Turning the garden into a trampoline park.   \n",
       "1221                                     I JOINED 1%...   \n",
       "...                                                 ...   \n",
       "19    PARIS SAINT-GERMAIN - AS MONACO (0 - 2) - High...   \n",
       "718   PARIS SAINT-GERMAIN - AS MONACO (0 - 2) - High...   \n",
       "5051                Game Recap: Lakers 116, Hornets 105   \n",
       "4233  PARIS SAINT-GERMAIN - FC NANTES (1 - 2) - High...   \n",
       "5618  OLYMPIQUE LYONNAIS - PARIS SAINT-GERMAIN (2 - ...   \n",
       "\n",
       "                                            Description  \\\n",
       "150                neat#SmashBros #Reaction #Episode1     \n",
       "1631  my twitch is https://www.twitch.tv/dannygoonza...   \n",
       "3413  Let's make it a $2M bet Dana...Watch me fight ...   \n",
       "5042  ►Making my first trampoline.. and probably the...   \n",
       "1221  My INSANE introduction montage: https://www.yo...   \n",
       "...                                                 ...   \n",
       "19    PARIS SAINT-GERMAIN vs AS MONACO Highlights (0...   \n",
       "718   PARIS SAINT-GERMAIN vs AS MONACO Highlights (0...   \n",
       "5051  Led by LeBron James 37 points, eight rebounds ...   \n",
       "4233  PARIS SAINT-GERMAIN vs FC NANTES Highlights (1...   \n",
       "5618  OLYMPIQUE LYONNAIS vs PARIS SAINT-GERMAIN High...   \n",
       "\n",
       "                                    cleaned_description  \\\n",
       "150                   neat smashbros reaction episode1    \n",
       "1631  my twitch is https www twitch tv dannygoonzale...   \n",
       "3413  let s make it a 2m bet dana watch me fight on ...   \n",
       "5042   making my first trampoline and probably the l...   \n",
       "1221  my insane introduction montage https www youtu...   \n",
       "...                                                 ...   \n",
       "19    paris saint germain vs as monaco highlights 0 ...   \n",
       "718   paris saint germain vs as monaco highlights 0 ...   \n",
       "5051  led by lebron james 37 points eight rebounds a...   \n",
       "4233  paris saint germain vs fc nantes highlights 1 ...   \n",
       "5618  olympique lyonnais vs paris saint germain high...   \n",
       "\n",
       "                                              encodings  similarity_score  \n",
       "150   ((tf.Tensor(-0.99999774, shape=(), dtype=float...          0.960134  \n",
       "1631  ((tf.Tensor(-0.99998415, shape=(), dtype=float...          0.954832  \n",
       "3413  ((tf.Tensor(-0.99997956, shape=(), dtype=float...          0.946733  \n",
       "5042  ((tf.Tensor(-0.999972, shape=(), dtype=float32...          0.942316  \n",
       "1221  ((tf.Tensor(-0.99995816, shape=(), dtype=float...          0.941494  \n",
       "...                                                 ...               ...  \n",
       "19    ((tf.Tensor(-0.9992719, shape=(), dtype=float3...          0.474990  \n",
       "718   ((tf.Tensor(-0.9992719, shape=(), dtype=float3...          0.474990  \n",
       "5051  ((tf.Tensor(-0.81145954, shape=(), dtype=float...          0.460408  \n",
       "4233  ((tf.Tensor(-0.99487877, shape=(), dtype=float...          0.427039  \n",
       "5618  ((tf.Tensor(-0.9971845, shape=(), dtype=float3...          0.420420  \n",
       "\n",
       "[1688 rows x 5 columns]"
      ]
     },
     "execution_count": 18,
     "metadata": {},
     "output_type": "execute_result"
    }
   ],
   "source": [
    "df_results"
   ]
  },
  {
   "cell_type": "code",
   "execution_count": 19,
   "id": "34ed907d",
   "metadata": {},
   "outputs": [],
   "source": [
    "results=df_results[['Title','Description','similarity_score']].copy()"
   ]
  },
  {
   "cell_type": "code",
   "execution_count": 20,
   "id": "76382f70",
   "metadata": {},
   "outputs": [
    {
     "data": {
      "text/html": [
       "<div>\n",
       "<style scoped>\n",
       "    .dataframe tbody tr th:only-of-type {\n",
       "        vertical-align: middle;\n",
       "    }\n",
       "\n",
       "    .dataframe tbody tr th {\n",
       "        vertical-align: top;\n",
       "    }\n",
       "\n",
       "    .dataframe thead th {\n",
       "        text-align: right;\n",
       "    }\n",
       "</style>\n",
       "<table border=\"1\" class=\"dataframe\">\n",
       "  <thead>\n",
       "    <tr style=\"text-align: right;\">\n",
       "      <th></th>\n",
       "      <th>Title</th>\n",
       "      <th>Description</th>\n",
       "      <th>similarity_score</th>\n",
       "    </tr>\n",
       "  </thead>\n",
       "  <tbody>\n",
       "    <tr>\n",
       "      <th>150</th>\n",
       "      <td>Pyra / Mythra in Smash!!! Nice!!!</td>\n",
       "      <td>neat#SmashBros #Reaction #Episode1</td>\n",
       "      <td>0.960134</td>\n",
       "    </tr>\n",
       "    <tr>\n",
       "      <th>1631</th>\n",
       "      <td>i dont know how to play minecraft</td>\n",
       "      <td>my twitch is https://www.twitch.tv/dannygoonza...</td>\n",
       "      <td>0.954832</td>\n",
       "    </tr>\n",
       "    <tr>\n",
       "      <th>3413</th>\n",
       "      <td>Dana White is Betting $1 Millon that Jake Paul...</td>\n",
       "      <td>Let's make it a $2M bet Dana...Watch me fight ...</td>\n",
       "      <td>0.946733</td>\n",
       "    </tr>\n",
       "    <tr>\n",
       "      <th>5042</th>\n",
       "      <td>Turning the garden into a trampoline park.</td>\n",
       "      <td>►Making my first trampoline.. and probably the...</td>\n",
       "      <td>0.942316</td>\n",
       "    </tr>\n",
       "    <tr>\n",
       "      <th>1221</th>\n",
       "      <td>I JOINED 1%...</td>\n",
       "      <td>My INSANE introduction montage: https://www.yo...</td>\n",
       "      <td>0.941494</td>\n",
       "    </tr>\n",
       "    <tr>\n",
       "      <th>2240</th>\n",
       "      <td>technoblade fights three dudes</td>\n",
       "      <td>technoblade fights three dudesFOLLOW ME ON TWI...</td>\n",
       "      <td>0.941104</td>\n",
       "    </tr>\n",
       "    <tr>\n",
       "      <th>2013</th>\n",
       "      <td>Letting The Person in FRONT of me DECIDE What ...</td>\n",
       "      <td>This is probably the messiest/most awkward vid...</td>\n",
       "      <td>0.934386</td>\n",
       "    </tr>\n",
       "    <tr>\n",
       "      <th>5809</th>\n",
       "      <td>Ball Magic #shorts</td>\n",
       "      <td>my first #short 👅https://www.curiositybox.com</td>\n",
       "      <td>0.933478</td>\n",
       "    </tr>\n",
       "    <tr>\n",
       "      <th>3421</th>\n",
       "      <td>Minecraft, But Every Item Is Super...</td>\n",
       "      <td>Minecraft, But Every Item Is Super... (Challen...</td>\n",
       "      <td>0.933328</td>\n",
       "    </tr>\n",
       "    <tr>\n",
       "      <th>777</th>\n",
       "      <td>WILLNE, MEMEULOUS &amp; IMALLEXX (EBOYS SPECIAL) |...</td>\n",
       "      <td>SUBSCRIBE FOR MORE DON'T CRACK WITH WILLNE - h...</td>\n",
       "      <td>0.931442</td>\n",
       "    </tr>\n",
       "  </tbody>\n",
       "</table>\n",
       "</div>"
      ],
      "text/plain": [
       "                                                  Title  \\\n",
       "150                   Pyra / Mythra in Smash!!! Nice!!!   \n",
       "1631                  i dont know how to play minecraft   \n",
       "3413  Dana White is Betting $1 Millon that Jake Paul...   \n",
       "5042         Turning the garden into a trampoline park.   \n",
       "1221                                     I JOINED 1%...   \n",
       "2240                     technoblade fights three dudes   \n",
       "2013  Letting The Person in FRONT of me DECIDE What ...   \n",
       "5809                                 Ball Magic #shorts   \n",
       "3421              Minecraft, But Every Item Is Super...   \n",
       "777   WILLNE, MEMEULOUS & IMALLEXX (EBOYS SPECIAL) |...   \n",
       "\n",
       "                                            Description  similarity_score  \n",
       "150                neat#SmashBros #Reaction #Episode1            0.960134  \n",
       "1631  my twitch is https://www.twitch.tv/dannygoonza...          0.954832  \n",
       "3413  Let's make it a $2M bet Dana...Watch me fight ...          0.946733  \n",
       "5042  ►Making my first trampoline.. and probably the...          0.942316  \n",
       "1221  My INSANE introduction montage: https://www.yo...          0.941494  \n",
       "2240  technoblade fights three dudesFOLLOW ME ON TWI...          0.941104  \n",
       "2013  This is probably the messiest/most awkward vid...          0.934386  \n",
       "5809      my first #short 👅https://www.curiositybox.com          0.933478  \n",
       "3421  Minecraft, But Every Item Is Super... (Challen...          0.933328  \n",
       "777   SUBSCRIBE FOR MORE DON'T CRACK WITH WILLNE - h...          0.931442  "
      ]
     },
     "execution_count": 20,
     "metadata": {},
     "output_type": "execute_result"
    }
   ],
   "source": [
    "final_results=results.head(10)\n",
    "final_results"
   ]
  },
  {
   "cell_type": "markdown",
   "id": "9e732da1",
   "metadata": {},
   "source": [
    "##### Inference: Even with high similarity scores, the result returned is not accurate. We cannot find titles according to the input tag \"Action Hollywood Thrillers\""
   ]
  },
  {
   "cell_type": "markdown",
   "id": "00452337",
   "metadata": {},
   "source": [
    "## 4) SBERT on Description Column"
   ]
  },
  {
   "cell_type": "code",
   "execution_count": 21,
   "id": "57f679c5",
   "metadata": {},
   "outputs": [],
   "source": [
    "youtube = pd.read_csv('GB_videos_data.csv')\n",
    "youtube = youtube.drop_duplicates(subset = ['title'])\n",
    "youtube = youtube[['title', 'description']]\n",
    "youtube.columns = ['Title', 'Description']"
   ]
  },
  {
   "cell_type": "code",
   "execution_count": 22,
   "id": "1c7155cb",
   "metadata": {},
   "outputs": [],
   "source": [
    "youtube=youtube.reset_index(drop=True)"
   ]
  },
  {
   "cell_type": "code",
   "execution_count": 1,
   "id": "03f6080f",
   "metadata": {},
   "outputs": [
    {
     "ename": "ModuleNotFoundError",
     "evalue": "No module named 'sentence_transformers'",
     "output_type": "error",
     "traceback": [
      "\u001b[1;31m---------------------------------------------------------------------------\u001b[0m",
      "\u001b[1;31mModuleNotFoundError\u001b[0m                       Traceback (most recent call last)",
      "Cell \u001b[1;32mIn[1], line 1\u001b[0m\n\u001b[1;32m----> 1\u001b[0m \u001b[38;5;28;01mfrom\u001b[39;00m \u001b[38;5;21;01msentence_transformers\u001b[39;00m \u001b[38;5;28;01mimport\u001b[39;00m SentenceTransformer\n",
      "\u001b[1;31mModuleNotFoundError\u001b[0m: No module named 'sentence_transformers'"
     ]
    }
   ],
   "source": [
    "from sentence_transformers import SentenceTransformer"
   ]
  },
  {
   "cell_type": "code",
   "execution_count": 24,
   "id": "b284054a",
   "metadata": {},
   "outputs": [],
   "source": [
    "sbert=SentenceTransformer('all-MiniLM-L6-v2')"
   ]
  },
  {
   "cell_type": "code",
   "execution_count": 25,
   "id": "8124ecf6",
   "metadata": {},
   "outputs": [
    {
     "name": "stdout",
     "output_type": "stream",
     "text": [
      "--- 94.92037439346313 seconds ---\n"
     ]
    }
   ],
   "source": [
    "start_time = time.time()\n",
    "sentence_emb=sbert.encode(youtube['Description'].tolist())\n",
    "print(\"--- %s seconds ---\" % (time.time() - start_time))\n"
   ]
  },
  {
   "cell_type": "code",
   "execution_count": 26,
   "id": "6d97eac1",
   "metadata": {},
   "outputs": [
    {
     "name": "stdout",
     "output_type": "stream",
     "text": [
      "Enter your tag hereAction Hollywood Thrillers\n"
     ]
    }
   ],
   "source": [
    "inp_val=input('Enter your tag here')\n",
    "inp=[]\n",
    "inp.append(inp_val)"
   ]
  },
  {
   "cell_type": "code",
   "execution_count": 27,
   "id": "868e7a05",
   "metadata": {},
   "outputs": [],
   "source": [
    "inp_emb=sbert.encode(inp)"
   ]
  },
  {
   "cell_type": "code",
   "execution_count": 28,
   "id": "252a6c03",
   "metadata": {},
   "outputs": [],
   "source": [
    "youtube['SbertEmb']=''\n",
    "for i in range(0,np.shape(sentence_emb)[0]):\n",
    "    youtube['SbertEmb'][i]=sentence_emb[i]"
   ]
  },
  {
   "cell_type": "code",
   "execution_count": 29,
   "id": "4f51d347",
   "metadata": {},
   "outputs": [],
   "source": [
    "youtube['similarity_score']=youtube['SbertEmb'].apply(lambda x:metrics.pairwise.cosine_similarity(np.array(x).reshape(1,-1).tolist(),inp_emb)[0][0])"
   ]
  },
  {
   "cell_type": "code",
   "execution_count": 30,
   "id": "769534f3",
   "metadata": {},
   "outputs": [],
   "source": [
    "df_results_SBert=youtube.sort_values(by=['similarity_score'], ascending=False)"
   ]
  },
  {
   "cell_type": "code",
   "execution_count": 32,
   "id": "585682a1",
   "metadata": {},
   "outputs": [
    {
     "data": {
      "text/html": [
       "<div>\n",
       "<style scoped>\n",
       "    .dataframe tbody tr th:only-of-type {\n",
       "        vertical-align: middle;\n",
       "    }\n",
       "\n",
       "    .dataframe tbody tr th {\n",
       "        vertical-align: top;\n",
       "    }\n",
       "\n",
       "    .dataframe thead th {\n",
       "        text-align: right;\n",
       "    }\n",
       "</style>\n",
       "<table border=\"1\" class=\"dataframe\">\n",
       "  <thead>\n",
       "    <tr style=\"text-align: right;\">\n",
       "      <th></th>\n",
       "      <th>Title</th>\n",
       "      <th>Description</th>\n",
       "      <th>similarity_score</th>\n",
       "    </tr>\n",
       "  </thead>\n",
       "  <tbody>\n",
       "    <tr>\n",
       "      <th>341</th>\n",
       "      <td>Everything Wrong With Snakes On A Plane in 18 ...</td>\n",
       "      <td>This f*cking movie. Next week: Classic comedy ...</td>\n",
       "      <td>0.372724</td>\n",
       "    </tr>\n",
       "    <tr>\n",
       "      <th>131</th>\n",
       "      <td>Disney's Cruella | Official Trailer</td>\n",
       "      <td>Brilliant. Bad. A little bit mad. May 2021.Aca...</td>\n",
       "      <td>0.360897</td>\n",
       "    </tr>\n",
       "    <tr>\n",
       "      <th>1349</th>\n",
       "      <td>Video Games In Real Life</td>\n",
       "      <td>From Rust to Among Us, here’s what your favori...</td>\n",
       "      <td>0.347305</td>\n",
       "    </tr>\n",
       "    <tr>\n",
       "      <th>135</th>\n",
       "      <td>Demi Lovato: Dancing with the Devil | Official...</td>\n",
       "      <td>Featuring the exclusive first listen to Demi L...</td>\n",
       "      <td>0.340509</td>\n",
       "    </tr>\n",
       "    <tr>\n",
       "      <th>1089</th>\n",
       "      <td>Disney’s Cruella | Sneak Peek</td>\n",
       "      <td>This May, meet the Queen of Mean #Cruella 💋 🖤A...</td>\n",
       "      <td>0.328171</td>\n",
       "    </tr>\n",
       "    <tr>\n",
       "      <th>380</th>\n",
       "      <td>Dead by Daylight | Chapter XIX Teaser</td>\n",
       "      <td>Inspiration can often be drawn from the darkes...</td>\n",
       "      <td>0.323026</td>\n",
       "    </tr>\n",
       "    <tr>\n",
       "      <th>1070</th>\n",
       "      <td>Post Malone - Hollywood's Bleeding (Live From ...</td>\n",
       "      <td>“Hollywood’s Bleeding” (Live From The 63rd GRA...</td>\n",
       "      <td>0.320625</td>\n",
       "    </tr>\n",
       "    <tr>\n",
       "      <th>612</th>\n",
       "      <td>Without Remorse - Official Trailer | Prime Video</td>\n",
       "      <td>Tom Clancy's Without Remorse, or simply Withou...</td>\n",
       "      <td>0.317350</td>\n",
       "    </tr>\n",
       "    <tr>\n",
       "      <th>313</th>\n",
       "      <td>Army of the Dead | Official Teaser | Netflix</td>\n",
       "      <td>A Zack Snyder film. On Netflix May 21. Followi...</td>\n",
       "      <td>0.308234</td>\n",
       "    </tr>\n",
       "    <tr>\n",
       "      <th>494</th>\n",
       "      <td>Live in the Moment - Dispo by David Dobrik</td>\n",
       "      <td>Go check out our new version of Dispo: https:/...</td>\n",
       "      <td>0.305523</td>\n",
       "    </tr>\n",
       "  </tbody>\n",
       "</table>\n",
       "</div>"
      ],
      "text/plain": [
       "                                                  Title  \\\n",
       "341   Everything Wrong With Snakes On A Plane in 18 ...   \n",
       "131                 Disney's Cruella | Official Trailer   \n",
       "1349                           Video Games In Real Life   \n",
       "135   Demi Lovato: Dancing with the Devil | Official...   \n",
       "1089                      Disney’s Cruella | Sneak Peek   \n",
       "380               Dead by Daylight | Chapter XIX Teaser   \n",
       "1070  Post Malone - Hollywood's Bleeding (Live From ...   \n",
       "612    Without Remorse - Official Trailer | Prime Video   \n",
       "313        Army of the Dead | Official Teaser | Netflix   \n",
       "494          Live in the Moment - Dispo by David Dobrik   \n",
       "\n",
       "                                            Description  similarity_score  \n",
       "341   This f*cking movie. Next week: Classic comedy ...          0.372724  \n",
       "131   Brilliant. Bad. A little bit mad. May 2021.Aca...          0.360897  \n",
       "1349  From Rust to Among Us, here’s what your favori...          0.347305  \n",
       "135   Featuring the exclusive first listen to Demi L...          0.340509  \n",
       "1089  This May, meet the Queen of Mean #Cruella 💋 🖤A...          0.328171  \n",
       "380   Inspiration can often be drawn from the darkes...          0.323026  \n",
       "1070  “Hollywood’s Bleeding” (Live From The 63rd GRA...          0.320625  \n",
       "612   Tom Clancy's Without Remorse, or simply Withou...          0.317350  \n",
       "313   A Zack Snyder film. On Netflix May 21. Followi...          0.308234  \n",
       "494   Go check out our new version of Dispo: https:/...          0.305523  "
      ]
     },
     "execution_count": 32,
     "metadata": {},
     "output_type": "execute_result"
    }
   ],
   "source": [
    "df_results_SBert[['Title','Description','similarity_score']].head(10)"
   ]
  },
  {
   "cell_type": "markdown",
   "id": "10a6b5b0",
   "metadata": {},
   "source": [
    "### Final inferences:\n",
    "- SBERT is a faster model than BERT\n",
    "- We need to be careful with the attributes to be taken in the recommendation system\n",
    "- Similarity score does not represent goodness of fit and cannot be used for validation\n",
    "- From our implementation, we can say SBERT performs better on noisy data"
   ]
  }
 ],
 "metadata": {
  "kernelspec": {
   "display_name": "Python 3 (ipykernel)",
   "language": "python",
   "name": "python3"
  },
  "language_info": {
   "codemirror_mode": {
    "name": "ipython",
    "version": 3
   },
   "file_extension": ".py",
   "mimetype": "text/x-python",
   "name": "python",
   "nbconvert_exporter": "python",
   "pygments_lexer": "ipython3",
   "version": "3.11.5"
  }
 },
 "nbformat": 4,
 "nbformat_minor": 5
}
