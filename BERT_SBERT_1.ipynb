{
 "cells": [
  {
   "cell_type": "markdown",
   "id": "3bbb3b30",
   "metadata": {},
   "source": [
    "<h1><center> RECOMMENDATION SYSTEM"
   ]
  },
  {
   "cell_type": "markdown",
   "id": "187ef7dd",
   "metadata": {},
   "source": [
    "## Importing necessary libraries"
   ]
  },
  {
   "cell_type": "code",
   "execution_count": 1,
   "id": "fad7f79b",
   "metadata": {},
   "outputs": [],
   "source": [
    "import tensorflow as tf\n",
    "import tensorflow_hub as hub\n",
    "import numpy as np\n",
    "import pandas as pd\n",
    "import seaborn as sns\n",
    "import matplotlib.pyplot as plt\n",
    "from sklearn.model_selection import train_test_split\n",
    "from sklearn.metrics import confusion_matrix, classification_report\n",
    "import tensorflow_text as text\n",
    "import time\n",
    "import sklearn.metrics as metrics\n",
    "import re"
   ]
  },
  {
   "cell_type": "markdown",
   "id": "b0dc15ad",
   "metadata": {},
   "source": [
    "## Reading the dataset"
   ]
  },
  {
   "cell_type": "code",
   "execution_count": 2,
   "id": "718c2f27",
   "metadata": {},
   "outputs": [],
   "source": [
    "youtube = pd.read_csv('GB_videos_data.csv')\n",
    "youtube = youtube.drop_duplicates(subset = ['title'])\n",
    "youtube = youtube[['title', 'description']]\n",
    "youtube.columns = ['Title', 'Description']\n",
    "youtube['cleaned_title'] = youtube['Title'].apply(lambda x: x.lower())\n",
    "youtube['cleaned_title'] = youtube['cleaned_title'].apply(lambda x: re.sub('[^A-Za-z0-9]+', ' ', x))"
   ]
  },
  {
   "cell_type": "code",
   "execution_count": 3,
   "id": "e7c32473",
   "metadata": {},
   "outputs": [
    {
     "data": {
      "text/html": [
       "<div>\n",
       "<style scoped>\n",
       "    .dataframe tbody tr th:only-of-type {\n",
       "        vertical-align: middle;\n",
       "    }\n",
       "\n",
       "    .dataframe tbody tr th {\n",
       "        vertical-align: top;\n",
       "    }\n",
       "\n",
       "    .dataframe thead th {\n",
       "        text-align: right;\n",
       "    }\n",
       "</style>\n",
       "<table border=\"1\" class=\"dataframe\">\n",
       "  <thead>\n",
       "    <tr style=\"text-align: right;\">\n",
       "      <th></th>\n",
       "      <th>Title</th>\n",
       "      <th>Description</th>\n",
       "      <th>cleaned_title</th>\n",
       "    </tr>\n",
       "  </thead>\n",
       "  <tbody>\n",
       "    <tr>\n",
       "      <th>0</th>\n",
       "      <td>Milan 0-3 Inter | Inter Go Four Points Clear w...</td>\n",
       "      <td>Inter breezed past Milan in the derby to go fo...</td>\n",
       "      <td>milan 0 3 inter inter go four points clear wit...</td>\n",
       "    </tr>\n",
       "    <tr>\n",
       "      <th>1</th>\n",
       "      <td>PE With Joe 2021 | Monday 22nd Feb</td>\n",
       "      <td></td>\n",
       "      <td>pe with joe 2021 monday 22nd feb</td>\n",
       "    </tr>\n",
       "    <tr>\n",
       "      <th>2</th>\n",
       "      <td>Cards Against Humanity PHAN EDITION!</td>\n",
       "      <td>We play an offensive card game ..created by Da...</td>\n",
       "      <td>cards against humanity phan edition</td>\n",
       "    </tr>\n",
       "    <tr>\n",
       "      <th>3</th>\n",
       "      <td>HIGHLIGHTS! David Avanesyan crushes Josh Kelly...</td>\n",
       "      <td>►SUBSCRIBE http://bit.ly/SSBoxingSubJosh Kelly...</td>\n",
       "      <td>highlights david avanesyan crushes josh kelly ...</td>\n",
       "    </tr>\n",
       "    <tr>\n",
       "      <th>4</th>\n",
       "      <td>WHO IS THE BEST COUPLE?!</td>\n",
       "      <td>This was so crazy, you will never guess who ma...</td>\n",
       "      <td>who is the best couple</td>\n",
       "    </tr>\n",
       "    <tr>\n",
       "      <th>...</th>\n",
       "      <td>...</td>\n",
       "      <td>...</td>\n",
       "      <td>...</td>\n",
       "    </tr>\n",
       "    <tr>\n",
       "      <th>5869</th>\n",
       "      <td>NIGELLA LAWSON So Pretty But CAN SHE MAKE RAMEN?</td>\n",
       "      <td>Niece and nephew, go watch Nephew Nigel podcas...</td>\n",
       "      <td>nigella lawson so pretty but can she make ramen</td>\n",
       "    </tr>\n",
       "    <tr>\n",
       "      <th>5872</th>\n",
       "      <td>YouTube just isn't working for me anymore</td>\n",
       "      <td>I think I've reached my breaking point with Yo...</td>\n",
       "      <td>youtube just isn t working for me anymore</td>\n",
       "    </tr>\n",
       "    <tr>\n",
       "      <th>5880</th>\n",
       "      <td>Solskjaer's Last Chance! Pogba Juve Talks? Man...</td>\n",
       "      <td>Man Utd must change under Solskjaer if United ...</td>\n",
       "      <td>solskjaer s last chance pogba juve talks man u...</td>\n",
       "    </tr>\n",
       "    <tr>\n",
       "      <th>5887</th>\n",
       "      <td>Bloodcurdling Facts That You Wish You Never Kn...</td>\n",
       "      <td>► TikTok: https://www.tiktok.com/@fyp► Instagr...</td>\n",
       "      <td>bloodcurdling facts that you wish you never kn...</td>\n",
       "    </tr>\n",
       "    <tr>\n",
       "      <th>5889</th>\n",
       "      <td>Vikkstar's Milk: A Short Story</td>\n",
       "      <td>What other clips do you want to see? Lets us k...</td>\n",
       "      <td>vikkstar s milk a short story</td>\n",
       "    </tr>\n",
       "  </tbody>\n",
       "</table>\n",
       "<p>1370 rows × 3 columns</p>\n",
       "</div>"
      ],
      "text/plain": [
       "                                                  Title  \\\n",
       "0     Milan 0-3 Inter | Inter Go Four Points Clear w...   \n",
       "1                    PE With Joe 2021 | Monday 22nd Feb   \n",
       "2                  Cards Against Humanity PHAN EDITION!   \n",
       "3     HIGHLIGHTS! David Avanesyan crushes Josh Kelly...   \n",
       "4                              WHO IS THE BEST COUPLE?!   \n",
       "...                                                 ...   \n",
       "5869   NIGELLA LAWSON So Pretty But CAN SHE MAKE RAMEN?   \n",
       "5872          YouTube just isn't working for me anymore   \n",
       "5880  Solskjaer's Last Chance! Pogba Juve Talks? Man...   \n",
       "5887  Bloodcurdling Facts That You Wish You Never Kn...   \n",
       "5889                     Vikkstar's Milk: A Short Story   \n",
       "\n",
       "                                            Description  \\\n",
       "0     Inter breezed past Milan in the derby to go fo...   \n",
       "1                                                         \n",
       "2     We play an offensive card game ..created by Da...   \n",
       "3     ►SUBSCRIBE http://bit.ly/SSBoxingSubJosh Kelly...   \n",
       "4     This was so crazy, you will never guess who ma...   \n",
       "...                                                 ...   \n",
       "5869  Niece and nephew, go watch Nephew Nigel podcas...   \n",
       "5872  I think I've reached my breaking point with Yo...   \n",
       "5880  Man Utd must change under Solskjaer if United ...   \n",
       "5887  ► TikTok: https://www.tiktok.com/@fyp► Instagr...   \n",
       "5889  What other clips do you want to see? Lets us k...   \n",
       "\n",
       "                                          cleaned_title  \n",
       "0     milan 0 3 inter inter go four points clear wit...  \n",
       "1                      pe with joe 2021 monday 22nd feb  \n",
       "2                  cards against humanity phan edition   \n",
       "3     highlights david avanesyan crushes josh kelly ...  \n",
       "4                               who is the best couple   \n",
       "...                                                 ...  \n",
       "5869   nigella lawson so pretty but can she make ramen   \n",
       "5872          youtube just isn t working for me anymore  \n",
       "5880  solskjaer s last chance pogba juve talks man u...  \n",
       "5887  bloodcurdling facts that you wish you never kn...  \n",
       "5889                      vikkstar s milk a short story  \n",
       "\n",
       "[1370 rows x 3 columns]"
      ]
     },
     "execution_count": 3,
     "metadata": {},
     "output_type": "execute_result"
    }
   ],
   "source": [
    "youtube"
   ]
  },
  {
   "cell_type": "code",
   "execution_count": 4,
   "id": "d42281e3",
   "metadata": {},
   "outputs": [],
   "source": [
    "preprocessor = hub.KerasLayer(\"https://tfhub.dev/tensorflow/bert_en_uncased_preprocess/3\")\n",
    "encoder = hub.KerasLayer(\"https://tfhub.dev/tensorflow/small_bert/bert_en_uncased_L-2_H-128_A-2/1\", trainable=True)"
   ]
  },
  {
   "cell_type": "markdown",
   "id": "48329055",
   "metadata": {},
   "source": [
    "## 1) BERT on Title Column"
   ]
  },
  {
   "cell_type": "code",
   "execution_count": 5,
   "id": "0b2ac232",
   "metadata": {},
   "outputs": [],
   "source": [
    "\n",
    "\n",
    "def get_bert_embeddings(text, preprocessor, encoder):\n",
    "    text_input = tf.keras.layers.Input(shape=(), dtype=tf.string)\n",
    "    encoder_inputs = preprocessor(text_input)\n",
    "    outputs = encoder(encoder_inputs)\n",
    "    embedding_model = tf.keras.Model(text_input, outputs['pooled_output'])\n",
    "    sentences = tf.constant([text])\n",
    "    return embedding_model(sentences)\n",
    "\n"
   ]
  },
  {
   "cell_type": "code",
   "execution_count": 6,
   "id": "b3147fa7",
   "metadata": {},
   "outputs": [
    {
     "name": "stdout",
     "output_type": "stream",
     "text": [
      "--- 86.87068486213684 seconds ---\n"
     ]
    }
   ],
   "source": [
    "start_time = time.time()\n",
    "youtube['encodings'] = youtube['cleaned_title'].apply(lambda x: get_bert_embeddings(x, preprocessor, encoder))\n",
    "print(\"--- %s seconds ---\" % (time.time() - start_time))"
   ]
  },
  {
   "cell_type": "code",
   "execution_count": 7,
   "id": "ff63985f",
   "metadata": {},
   "outputs": [
    {
     "data": {
      "text/plain": [
       "<tf.Tensor: shape=(1, 128), dtype=float32, numpy=\n",
       "array([[-0.9996609 ,  0.00611476, -0.90465075,  0.50488615, -0.9914023 ,\n",
       "         0.8864676 , -0.9676053 , -0.5649521 ,  0.00441299,  0.11323541,\n",
       "        -0.66438246, -0.01549171,  0.03428588,  0.9784331 , -0.3433421 ,\n",
       "         0.7791186 ,  0.993968  ,  0.04071885, -0.9056964 , -0.4641791 ,\n",
       "         0.91723204, -0.00427914, -0.85351753, -0.92165285, -0.99904186,\n",
       "         0.03395874, -0.9945298 ,  0.99323004,  0.852847  ,  0.09699281,\n",
       "        -0.00655349, -0.19616483,  0.01363273, -0.91710025,  0.91037726,\n",
       "         0.9801209 , -0.9887686 , -0.00849838, -0.889948  , -0.8646063 ,\n",
       "         0.9871473 ,  0.8467633 , -0.89535064,  0.866157  , -0.73643064,\n",
       "        -0.07725015, -0.4894271 ,  0.9762503 , -0.05012548,  0.9958873 ,\n",
       "         0.57535356, -0.9566275 ,  0.05867821,  0.9872388 ,  0.982109  ,\n",
       "         0.52845955, -0.3528041 , -0.9294477 ,  0.9626395 , -0.7742015 ,\n",
       "         0.05273832,  0.97950155,  0.8175247 ,  0.52698344, -0.4604506 ,\n",
       "        -0.9934337 , -0.26616302, -0.5751976 , -0.32862106,  0.9548718 ,\n",
       "         0.976363  ,  0.09377134, -0.95234966, -0.01726105,  0.85498035,\n",
       "        -0.9965645 , -0.58744246,  0.15878883, -0.98623145, -0.05097897,\n",
       "        -0.6011991 ,  0.08572134, -0.5438151 , -0.9998861 ,  0.976466  ,\n",
       "         0.2528513 ,  0.3937341 , -0.95770097, -0.7794473 ,  0.6058469 ,\n",
       "         0.7162558 ,  0.8950196 , -0.71155477,  0.82129055,  0.9178886 ,\n",
       "         0.95341355, -0.850918  , -0.76650333, -0.9955382 , -0.86496025,\n",
       "        -0.59806055, -0.32060605, -0.9871786 , -0.7845761 , -0.9880103 ,\n",
       "         0.37624678, -0.99990225, -0.8370821 ,  0.06427432,  0.9906365 ,\n",
       "         0.96947163,  0.9708374 , -0.46148935,  0.9243613 , -0.91941255,\n",
       "         0.07883618, -0.8081436 , -0.20251931, -0.06715091, -0.99831444,\n",
       "         0.03825442, -0.9955664 , -0.9799097 ,  0.38597974, -0.99550265,\n",
       "         0.9551077 ,  0.9787131 ,  0.96141857]], dtype=float32)>"
      ]
     },
     "execution_count": 7,
     "metadata": {},
     "output_type": "execute_result"
    }
   ],
   "source": [
    "youtube['encodings'][0]"
   ]
  },
  {
   "cell_type": "code",
   "execution_count": 33,
   "id": "68889b16",
   "metadata": {},
   "outputs": [
    {
     "name": "stdout",
     "output_type": "stream",
     "text": [
      "Football\n"
     ]
    },
    {
     "ename": "KeyError",
     "evalue": "'encodings'",
     "output_type": "error",
     "traceback": [
      "\u001b[1;31m---------------------------------------------------------------------------\u001b[0m",
      "\u001b[1;31mKeyError\u001b[0m                                  Traceback (most recent call last)",
      "\u001b[1;32mC:\\ProgramData\\Anaconda3\\lib\\site-packages\\pandas\\core\\indexes\\base.py\u001b[0m in \u001b[0;36mget_loc\u001b[1;34m(self, key, method, tolerance)\u001b[0m\n\u001b[0;32m   3360\u001b[0m             \u001b[1;32mtry\u001b[0m\u001b[1;33m:\u001b[0m\u001b[1;33m\u001b[0m\u001b[1;33m\u001b[0m\u001b[0m\n\u001b[1;32m-> 3361\u001b[1;33m                 \u001b[1;32mreturn\u001b[0m \u001b[0mself\u001b[0m\u001b[1;33m.\u001b[0m\u001b[0m_engine\u001b[0m\u001b[1;33m.\u001b[0m\u001b[0mget_loc\u001b[0m\u001b[1;33m(\u001b[0m\u001b[0mcasted_key\u001b[0m\u001b[1;33m)\u001b[0m\u001b[1;33m\u001b[0m\u001b[1;33m\u001b[0m\u001b[0m\n\u001b[0m\u001b[0;32m   3362\u001b[0m             \u001b[1;32mexcept\u001b[0m \u001b[0mKeyError\u001b[0m \u001b[1;32mas\u001b[0m \u001b[0merr\u001b[0m\u001b[1;33m:\u001b[0m\u001b[1;33m\u001b[0m\u001b[1;33m\u001b[0m\u001b[0m\n",
      "\u001b[1;32mC:\\ProgramData\\Anaconda3\\lib\\site-packages\\pandas\\_libs\\index.pyx\u001b[0m in \u001b[0;36mpandas._libs.index.IndexEngine.get_loc\u001b[1;34m()\u001b[0m\n",
      "\u001b[1;32mC:\\ProgramData\\Anaconda3\\lib\\site-packages\\pandas\\_libs\\index.pyx\u001b[0m in \u001b[0;36mpandas._libs.index.IndexEngine.get_loc\u001b[1;34m()\u001b[0m\n",
      "\u001b[1;32mpandas\\_libs\\hashtable_class_helper.pxi\u001b[0m in \u001b[0;36mpandas._libs.hashtable.PyObjectHashTable.get_item\u001b[1;34m()\u001b[0m\n",
      "\u001b[1;32mpandas\\_libs\\hashtable_class_helper.pxi\u001b[0m in \u001b[0;36mpandas._libs.hashtable.PyObjectHashTable.get_item\u001b[1;34m()\u001b[0m\n",
      "\u001b[1;31mKeyError\u001b[0m: 'encodings'",
      "\nThe above exception was the direct cause of the following exception:\n",
      "\u001b[1;31mKeyError\u001b[0m                                  Traceback (most recent call last)",
      "\u001b[1;32m<ipython-input-33-3b099908fd55>\u001b[0m in \u001b[0;36m<module>\u001b[1;34m\u001b[0m\n\u001b[0;32m      8\u001b[0m \u001b[0mquery_encoding\u001b[0m \u001b[1;33m=\u001b[0m \u001b[0mget_bert_embeddings\u001b[0m\u001b[1;33m(\u001b[0m\u001b[0mquery_text\u001b[0m\u001b[1;33m,\u001b[0m \u001b[0mpreprocessor\u001b[0m\u001b[1;33m,\u001b[0m \u001b[0mencoder\u001b[0m\u001b[1;33m)\u001b[0m\u001b[1;33m\u001b[0m\u001b[1;33m\u001b[0m\u001b[0m\n\u001b[0;32m      9\u001b[0m \u001b[1;33m\u001b[0m\u001b[0m\n\u001b[1;32m---> 10\u001b[1;33m \u001b[0myoutube\u001b[0m\u001b[1;33m[\u001b[0m\u001b[1;34m'similarity_score'\u001b[0m\u001b[1;33m]\u001b[0m \u001b[1;33m=\u001b[0m \u001b[0myoutube\u001b[0m\u001b[1;33m[\u001b[0m\u001b[1;34m'encodings'\u001b[0m\u001b[1;33m]\u001b[0m\u001b[1;33m.\u001b[0m\u001b[0mapply\u001b[0m\u001b[1;33m(\u001b[0m\u001b[1;32mlambda\u001b[0m \u001b[0mx\u001b[0m\u001b[1;33m:\u001b[0m \u001b[0mmetrics\u001b[0m\u001b[1;33m.\u001b[0m\u001b[0mpairwise\u001b[0m\u001b[1;33m.\u001b[0m\u001b[0mcosine_similarity\u001b[0m\u001b[1;33m(\u001b[0m\u001b[0mx\u001b[0m\u001b[1;33m,\u001b[0m \u001b[0mquery_encoding\u001b[0m\u001b[1;33m)\u001b[0m\u001b[1;33m[\u001b[0m\u001b[1;36m0\u001b[0m\u001b[1;33m]\u001b[0m\u001b[1;33m[\u001b[0m\u001b[1;36m0\u001b[0m\u001b[1;33m]\u001b[0m\u001b[1;33m)\u001b[0m\u001b[1;33m\u001b[0m\u001b[1;33m\u001b[0m\u001b[0m\n\u001b[0m\u001b[0;32m     11\u001b[0m \u001b[0mdf_results\u001b[0m \u001b[1;33m=\u001b[0m \u001b[0myoutube\u001b[0m\u001b[1;33m.\u001b[0m\u001b[0msort_values\u001b[0m\u001b[1;33m(\u001b[0m\u001b[0mby\u001b[0m\u001b[1;33m=\u001b[0m\u001b[1;33m[\u001b[0m\u001b[1;34m'similarity_score'\u001b[0m\u001b[1;33m]\u001b[0m\u001b[1;33m,\u001b[0m \u001b[0mascending\u001b[0m\u001b[1;33m=\u001b[0m\u001b[1;32mFalse\u001b[0m\u001b[1;33m)\u001b[0m\u001b[1;33m\u001b[0m\u001b[1;33m\u001b[0m\u001b[0m\n",
      "\u001b[1;32mC:\\ProgramData\\Anaconda3\\lib\\site-packages\\pandas\\core\\frame.py\u001b[0m in \u001b[0;36m__getitem__\u001b[1;34m(self, key)\u001b[0m\n\u001b[0;32m   3453\u001b[0m             \u001b[1;32mif\u001b[0m \u001b[0mself\u001b[0m\u001b[1;33m.\u001b[0m\u001b[0mcolumns\u001b[0m\u001b[1;33m.\u001b[0m\u001b[0mnlevels\u001b[0m \u001b[1;33m>\u001b[0m \u001b[1;36m1\u001b[0m\u001b[1;33m:\u001b[0m\u001b[1;33m\u001b[0m\u001b[1;33m\u001b[0m\u001b[0m\n\u001b[0;32m   3454\u001b[0m                 \u001b[1;32mreturn\u001b[0m \u001b[0mself\u001b[0m\u001b[1;33m.\u001b[0m\u001b[0m_getitem_multilevel\u001b[0m\u001b[1;33m(\u001b[0m\u001b[0mkey\u001b[0m\u001b[1;33m)\u001b[0m\u001b[1;33m\u001b[0m\u001b[1;33m\u001b[0m\u001b[0m\n\u001b[1;32m-> 3455\u001b[1;33m             \u001b[0mindexer\u001b[0m \u001b[1;33m=\u001b[0m \u001b[0mself\u001b[0m\u001b[1;33m.\u001b[0m\u001b[0mcolumns\u001b[0m\u001b[1;33m.\u001b[0m\u001b[0mget_loc\u001b[0m\u001b[1;33m(\u001b[0m\u001b[0mkey\u001b[0m\u001b[1;33m)\u001b[0m\u001b[1;33m\u001b[0m\u001b[1;33m\u001b[0m\u001b[0m\n\u001b[0m\u001b[0;32m   3456\u001b[0m             \u001b[1;32mif\u001b[0m \u001b[0mis_integer\u001b[0m\u001b[1;33m(\u001b[0m\u001b[0mindexer\u001b[0m\u001b[1;33m)\u001b[0m\u001b[1;33m:\u001b[0m\u001b[1;33m\u001b[0m\u001b[1;33m\u001b[0m\u001b[0m\n\u001b[0;32m   3457\u001b[0m                 \u001b[0mindexer\u001b[0m \u001b[1;33m=\u001b[0m \u001b[1;33m[\u001b[0m\u001b[0mindexer\u001b[0m\u001b[1;33m]\u001b[0m\u001b[1;33m\u001b[0m\u001b[1;33m\u001b[0m\u001b[0m\n",
      "\u001b[1;32mC:\\ProgramData\\Anaconda3\\lib\\site-packages\\pandas\\core\\indexes\\base.py\u001b[0m in \u001b[0;36mget_loc\u001b[1;34m(self, key, method, tolerance)\u001b[0m\n\u001b[0;32m   3361\u001b[0m                 \u001b[1;32mreturn\u001b[0m \u001b[0mself\u001b[0m\u001b[1;33m.\u001b[0m\u001b[0m_engine\u001b[0m\u001b[1;33m.\u001b[0m\u001b[0mget_loc\u001b[0m\u001b[1;33m(\u001b[0m\u001b[0mcasted_key\u001b[0m\u001b[1;33m)\u001b[0m\u001b[1;33m\u001b[0m\u001b[1;33m\u001b[0m\u001b[0m\n\u001b[0;32m   3362\u001b[0m             \u001b[1;32mexcept\u001b[0m \u001b[0mKeyError\u001b[0m \u001b[1;32mas\u001b[0m \u001b[0merr\u001b[0m\u001b[1;33m:\u001b[0m\u001b[1;33m\u001b[0m\u001b[1;33m\u001b[0m\u001b[0m\n\u001b[1;32m-> 3363\u001b[1;33m                 \u001b[1;32mraise\u001b[0m \u001b[0mKeyError\u001b[0m\u001b[1;33m(\u001b[0m\u001b[0mkey\u001b[0m\u001b[1;33m)\u001b[0m \u001b[1;32mfrom\u001b[0m \u001b[0merr\u001b[0m\u001b[1;33m\u001b[0m\u001b[1;33m\u001b[0m\u001b[0m\n\u001b[0m\u001b[0;32m   3364\u001b[0m \u001b[1;33m\u001b[0m\u001b[0m\n\u001b[0;32m   3365\u001b[0m         \u001b[1;32mif\u001b[0m \u001b[0mis_scalar\u001b[0m\u001b[1;33m(\u001b[0m\u001b[0mkey\u001b[0m\u001b[1;33m)\u001b[0m \u001b[1;32mand\u001b[0m \u001b[0misna\u001b[0m\u001b[1;33m(\u001b[0m\u001b[0mkey\u001b[0m\u001b[1;33m)\u001b[0m \u001b[1;32mand\u001b[0m \u001b[1;32mnot\u001b[0m \u001b[0mself\u001b[0m\u001b[1;33m.\u001b[0m\u001b[0mhasnans\u001b[0m\u001b[1;33m:\u001b[0m\u001b[1;33m\u001b[0m\u001b[1;33m\u001b[0m\u001b[0m\n",
      "\u001b[1;31mKeyError\u001b[0m: 'encodings'"
     ]
    }
   ],
   "source": [
    "def preprocess_text():\n",
    "    text = input()\n",
    "    text = text.lower()\n",
    "    text = re.sub('[^A-Za-z0-9]+', ' ', text)\n",
    "    return text\n",
    "  \n",
    "query_text = preprocess_text()\n",
    "query_encoding = get_bert_embeddings(query_text, preprocessor, encoder)\n",
    "\n",
    "youtube['similarity_score'] = youtube['encodings'].apply(lambda x: metrics.pairwise.cosine_similarity(x, query_encoding)[0][0])\n",
    "df_results = youtube.sort_values(by=['similarity_score'], ascending=False)"
   ]
  },
  {
   "cell_type": "code",
   "execution_count": 9,
   "id": "298682b1",
   "metadata": {},
   "outputs": [
    {
     "data": {
      "text/plain": [
       "'music'"
      ]
     },
     "execution_count": 9,
     "metadata": {},
     "output_type": "execute_result"
    }
   ],
   "source": [
    "query_text"
   ]
  },
  {
   "cell_type": "code",
   "execution_count": 34,
   "id": "6628236c",
   "metadata": {},
   "outputs": [
    {
     "data": {
      "text/html": [
       "<div>\n",
       "<style scoped>\n",
       "    .dataframe tbody tr th:only-of-type {\n",
       "        vertical-align: middle;\n",
       "    }\n",
       "\n",
       "    .dataframe tbody tr th {\n",
       "        vertical-align: top;\n",
       "    }\n",
       "\n",
       "    .dataframe thead th {\n",
       "        text-align: right;\n",
       "    }\n",
       "</style>\n",
       "<table border=\"1\" class=\"dataframe\">\n",
       "  <thead>\n",
       "    <tr style=\"text-align: right;\">\n",
       "      <th></th>\n",
       "      <th>Title</th>\n",
       "      <th>Description</th>\n",
       "      <th>cleaned_title</th>\n",
       "      <th>encodings</th>\n",
       "      <th>similarity_score</th>\n",
       "    </tr>\n",
       "  </thead>\n",
       "  <tbody>\n",
       "    <tr>\n",
       "      <th>5649</th>\n",
       "      <td>Quadeca - Sisyphus (Official Music Video)</td>\n",
       "      <td>Pre-save to Spotify/Apple Music here! https://...</td>\n",
       "      <td>quadeca sisyphus official music video</td>\n",
       "      <td>((tf.Tensor(-0.9999955, shape=(), dtype=float3...</td>\n",
       "      <td>0.974822</td>\n",
       "    </tr>\n",
       "    <tr>\n",
       "      <th>422</th>\n",
       "      <td>선미(SUNMI) - 꼬리(TAIL) MUSIC VIDEO</td>\n",
       "      <td>[MV] 선미(SUNMI) - 꼬리(TAIL) 뮤직비디오⠀💿 선미(SUNMI) - ...</td>\n",
       "      <td>sunmi tail music video</td>\n",
       "      <td>((tf.Tensor(-0.9999925, shape=(), dtype=float3...</td>\n",
       "      <td>0.963242</td>\n",
       "    </tr>\n",
       "    <tr>\n",
       "      <th>2043</th>\n",
       "      <td>Sub Urban - Cirque [Official Music Video]</td>\n",
       "      <td>MERCH &amp; ANNOUNCEMENTS: https://www.thatsuburba...</td>\n",
       "      <td>sub urban cirque official music video</td>\n",
       "      <td>((tf.Tensor(-0.99998575, shape=(), dtype=float...</td>\n",
       "      <td>0.961027</td>\n",
       "    </tr>\n",
       "    <tr>\n",
       "      <th>5478</th>\n",
       "      <td>Pop Smoke - AP (Official Music Video)</td>\n",
       "      <td>Official music video for Pop Smoke AP, availab...</td>\n",
       "      <td>pop smoke ap official music video</td>\n",
       "      <td>((tf.Tensor(-0.999985, shape=(), dtype=float32...</td>\n",
       "      <td>0.955097</td>\n",
       "    </tr>\n",
       "    <tr>\n",
       "      <th>3627</th>\n",
       "      <td>Giveon - Heartbreak Anniversary (Official Musi...</td>\n",
       "      <td>When It's All Said And Done...Take Time availa...</td>\n",
       "      <td>giveon heartbreak anniversary official music v...</td>\n",
       "      <td>((tf.Tensor(-0.9999778, shape=(), dtype=float3...</td>\n",
       "      <td>0.954379</td>\n",
       "    </tr>\n",
       "    <tr>\n",
       "      <th>...</th>\n",
       "      <td>...</td>\n",
       "      <td>...</td>\n",
       "      <td>...</td>\n",
       "      <td>...</td>\n",
       "      <td>...</td>\n",
       "    </tr>\n",
       "    <tr>\n",
       "      <th>467</th>\n",
       "      <td>D-low | Round 2 - Quarterfinal 3 | RYTHMIND vs...</td>\n",
       "      <td>Welcome to round 2 of the third quarter final ...</td>\n",
       "      <td>d low round 2 quarterfinal 3 rythmind vs d low...</td>\n",
       "      <td>((tf.Tensor(-0.9999254, shape=(), dtype=float3...</td>\n",
       "      <td>0.635841</td>\n",
       "    </tr>\n",
       "    <tr>\n",
       "      <th>401</th>\n",
       "      <td>Atletico Madrid v Chelsea (0-1) | Giroud score...</td>\n",
       "      <td>Olivier Giroud's magnificent bicycle-kick was ...</td>\n",
       "      <td>atletico madrid v chelsea 0 1 giroud scores am...</td>\n",
       "      <td>((tf.Tensor(-0.99856704, shape=(), dtype=float...</td>\n",
       "      <td>0.591604</td>\n",
       "    </tr>\n",
       "    <tr>\n",
       "      <th>4116</th>\n",
       "      <td>Knights v Bulldogs Match Highlights | Round 1 ...</td>\n",
       "      <td>Knights co-captain Daniel Saifiti celebrated h...</td>\n",
       "      <td>knights v bulldogs match highlights round 1 20...</td>\n",
       "      <td>((tf.Tensor(-0.99970746, shape=(), dtype=float...</td>\n",
       "      <td>0.584821</td>\n",
       "    </tr>\n",
       "    <tr>\n",
       "      <th>5013</th>\n",
       "      <td>UEFA Champions League 2020/21 Quarter-Final &amp; ...</td>\n",
       "      <td>Watch the draw for 2020/21 UEFA Champions Leag...</td>\n",
       "      <td>uefa champions league 2020 21 quarter final se...</td>\n",
       "      <td>((tf.Tensor(-0.99868125, shape=(), dtype=float...</td>\n",
       "      <td>0.559690</td>\n",
       "    </tr>\n",
       "    <tr>\n",
       "      <th>5024</th>\n",
       "      <td>MARJANEYA - Neha Kakkar | Rubina Dilaik &amp; Abhi...</td>\n",
       "      <td>Anshul Garg presents Marjaneya by Neha Kakkar ...</td>\n",
       "      <td>marjaneya neha kakkar rubina dilaik abhinav sh...</td>\n",
       "      <td>((tf.Tensor(-0.9995292, shape=(), dtype=float3...</td>\n",
       "      <td>0.545331</td>\n",
       "    </tr>\n",
       "  </tbody>\n",
       "</table>\n",
       "<p>1370 rows × 5 columns</p>\n",
       "</div>"
      ],
      "text/plain": [
       "                                                  Title  \\\n",
       "5649          Quadeca - Sisyphus (Official Music Video)   \n",
       "422                    선미(SUNMI) - 꼬리(TAIL) MUSIC VIDEO   \n",
       "2043          Sub Urban - Cirque [Official Music Video]   \n",
       "5478              Pop Smoke - AP (Official Music Video)   \n",
       "3627  Giveon - Heartbreak Anniversary (Official Musi...   \n",
       "...                                                 ...   \n",
       "467   D-low | Round 2 - Quarterfinal 3 | RYTHMIND vs...   \n",
       "401   Atletico Madrid v Chelsea (0-1) | Giroud score...   \n",
       "4116  Knights v Bulldogs Match Highlights | Round 1 ...   \n",
       "5013  UEFA Champions League 2020/21 Quarter-Final & ...   \n",
       "5024  MARJANEYA - Neha Kakkar | Rubina Dilaik & Abhi...   \n",
       "\n",
       "                                            Description  \\\n",
       "5649  Pre-save to Spotify/Apple Music here! https://...   \n",
       "422   [MV] 선미(SUNMI) - 꼬리(TAIL) 뮤직비디오⠀💿 선미(SUNMI) - ...   \n",
       "2043  MERCH & ANNOUNCEMENTS: https://www.thatsuburba...   \n",
       "5478  Official music video for Pop Smoke AP, availab...   \n",
       "3627  When It's All Said And Done...Take Time availa...   \n",
       "...                                                 ...   \n",
       "467   Welcome to round 2 of the third quarter final ...   \n",
       "401   Olivier Giroud's magnificent bicycle-kick was ...   \n",
       "4116  Knights co-captain Daniel Saifiti celebrated h...   \n",
       "5013  Watch the draw for 2020/21 UEFA Champions Leag...   \n",
       "5024  Anshul Garg presents Marjaneya by Neha Kakkar ...   \n",
       "\n",
       "                                          cleaned_title  \\\n",
       "5649             quadeca sisyphus official music video    \n",
       "422                              sunmi tail music video   \n",
       "2043             sub urban cirque official music video    \n",
       "5478                 pop smoke ap official music video    \n",
       "3627  giveon heartbreak anniversary official music v...   \n",
       "...                                                 ...   \n",
       "467   d low round 2 quarterfinal 3 rythmind vs d low...   \n",
       "401   atletico madrid v chelsea 0 1 giroud scores am...   \n",
       "4116  knights v bulldogs match highlights round 1 20...   \n",
       "5013  uefa champions league 2020 21 quarter final se...   \n",
       "5024  marjaneya neha kakkar rubina dilaik abhinav sh...   \n",
       "\n",
       "                                              encodings  similarity_score  \n",
       "5649  ((tf.Tensor(-0.9999955, shape=(), dtype=float3...          0.974822  \n",
       "422   ((tf.Tensor(-0.9999925, shape=(), dtype=float3...          0.963242  \n",
       "2043  ((tf.Tensor(-0.99998575, shape=(), dtype=float...          0.961027  \n",
       "5478  ((tf.Tensor(-0.999985, shape=(), dtype=float32...          0.955097  \n",
       "3627  ((tf.Tensor(-0.9999778, shape=(), dtype=float3...          0.954379  \n",
       "...                                                 ...               ...  \n",
       "467   ((tf.Tensor(-0.9999254, shape=(), dtype=float3...          0.635841  \n",
       "401   ((tf.Tensor(-0.99856704, shape=(), dtype=float...          0.591604  \n",
       "4116  ((tf.Tensor(-0.99970746, shape=(), dtype=float...          0.584821  \n",
       "5013  ((tf.Tensor(-0.99868125, shape=(), dtype=float...          0.559690  \n",
       "5024  ((tf.Tensor(-0.9995292, shape=(), dtype=float3...          0.545331  \n",
       "\n",
       "[1370 rows x 5 columns]"
      ]
     },
     "execution_count": 34,
     "metadata": {},
     "output_type": "execute_result"
    }
   ],
   "source": [
    "df_results"
   ]
  },
  {
   "cell_type": "code",
   "execution_count": 35,
   "id": "683395e3",
   "metadata": {},
   "outputs": [],
   "source": [
    "results=df_results[['Title','Description','similarity_score']].copy()"
   ]
  },
  {
   "cell_type": "code",
   "execution_count": 36,
   "id": "d8eb77a3",
   "metadata": {},
   "outputs": [
    {
     "data": {
      "text/html": [
       "<div>\n",
       "<style scoped>\n",
       "    .dataframe tbody tr th:only-of-type {\n",
       "        vertical-align: middle;\n",
       "    }\n",
       "\n",
       "    .dataframe tbody tr th {\n",
       "        vertical-align: top;\n",
       "    }\n",
       "\n",
       "    .dataframe thead th {\n",
       "        text-align: right;\n",
       "    }\n",
       "</style>\n",
       "<table border=\"1\" class=\"dataframe\">\n",
       "  <thead>\n",
       "    <tr style=\"text-align: right;\">\n",
       "      <th></th>\n",
       "      <th>Title</th>\n",
       "      <th>Description</th>\n",
       "      <th>similarity_score</th>\n",
       "    </tr>\n",
       "  </thead>\n",
       "  <tbody>\n",
       "    <tr>\n",
       "      <th>5649</th>\n",
       "      <td>Quadeca - Sisyphus (Official Music Video)</td>\n",
       "      <td>Pre-save to Spotify/Apple Music here! https://...</td>\n",
       "      <td>0.974822</td>\n",
       "    </tr>\n",
       "    <tr>\n",
       "      <th>422</th>\n",
       "      <td>선미(SUNMI) - 꼬리(TAIL) MUSIC VIDEO</td>\n",
       "      <td>[MV] 선미(SUNMI) - 꼬리(TAIL) 뮤직비디오⠀💿 선미(SUNMI) - ...</td>\n",
       "      <td>0.963242</td>\n",
       "    </tr>\n",
       "    <tr>\n",
       "      <th>2043</th>\n",
       "      <td>Sub Urban - Cirque [Official Music Video]</td>\n",
       "      <td>MERCH &amp; ANNOUNCEMENTS: https://www.thatsuburba...</td>\n",
       "      <td>0.961027</td>\n",
       "    </tr>\n",
       "    <tr>\n",
       "      <th>5478</th>\n",
       "      <td>Pop Smoke - AP (Official Music Video)</td>\n",
       "      <td>Official music video for Pop Smoke AP, availab...</td>\n",
       "      <td>0.955097</td>\n",
       "    </tr>\n",
       "    <tr>\n",
       "      <th>3627</th>\n",
       "      <td>Giveon - Heartbreak Anniversary (Official Musi...</td>\n",
       "      <td>When It's All Said And Done...Take Time availa...</td>\n",
       "      <td>0.954379</td>\n",
       "    </tr>\n",
       "    <tr>\n",
       "      <th>126</th>\n",
       "      <td>Ariana Grande - main thing (official audio)</td>\n",
       "      <td>main thing” from Positions (Deluxe). Listen &amp; ...</td>\n",
       "      <td>0.954103</td>\n",
       "    </tr>\n",
       "    <tr>\n",
       "      <th>3602</th>\n",
       "      <td>Central Cee - 6 For 6 [Music Video]</td>\n",
       "      <td>📀 Wild West Mixtape: https://ada.lnk.to/Wild-W...</td>\n",
       "      <td>0.953150</td>\n",
       "    </tr>\n",
       "    <tr>\n",
       "      <th>3633</th>\n",
       "      <td>SION - The Blade (Official Music Video)</td>\n",
       "      <td>Howard Jones - VocalsJared Dines - GuitarHiram...</td>\n",
       "      <td>0.952570</td>\n",
       "    </tr>\n",
       "    <tr>\n",
       "      <th>3043</th>\n",
       "      <td>What Makes This Song Great? Ep.100 ?</td>\n",
       "      <td>In this episode of What Makes This Song Great?...</td>\n",
       "      <td>0.950409</td>\n",
       "    </tr>\n",
       "    <tr>\n",
       "      <th>4451</th>\n",
       "      <td>펜타곤(PENTAGON) - 'DO or NOT' Official Music Video</td>\n",
       "      <td>펜타곤(PENTAGON) - 'DO or NOT' Official Music Vid...</td>\n",
       "      <td>0.948621</td>\n",
       "    </tr>\n",
       "  </tbody>\n",
       "</table>\n",
       "</div>"
      ],
      "text/plain": [
       "                                                  Title  \\\n",
       "5649          Quadeca - Sisyphus (Official Music Video)   \n",
       "422                    선미(SUNMI) - 꼬리(TAIL) MUSIC VIDEO   \n",
       "2043          Sub Urban - Cirque [Official Music Video]   \n",
       "5478              Pop Smoke - AP (Official Music Video)   \n",
       "3627  Giveon - Heartbreak Anniversary (Official Musi...   \n",
       "126         Ariana Grande - main thing (official audio)   \n",
       "3602                Central Cee - 6 For 6 [Music Video]   \n",
       "3633            SION - The Blade (Official Music Video)   \n",
       "3043               What Makes This Song Great? Ep.100 ?   \n",
       "4451   펜타곤(PENTAGON) - 'DO or NOT' Official Music Video   \n",
       "\n",
       "                                            Description  similarity_score  \n",
       "5649  Pre-save to Spotify/Apple Music here! https://...          0.974822  \n",
       "422   [MV] 선미(SUNMI) - 꼬리(TAIL) 뮤직비디오⠀💿 선미(SUNMI) - ...          0.963242  \n",
       "2043  MERCH & ANNOUNCEMENTS: https://www.thatsuburba...          0.961027  \n",
       "5478  Official music video for Pop Smoke AP, availab...          0.955097  \n",
       "3627  When It's All Said And Done...Take Time availa...          0.954379  \n",
       "126   main thing” from Positions (Deluxe). Listen & ...          0.954103  \n",
       "3602  📀 Wild West Mixtape: https://ada.lnk.to/Wild-W...          0.953150  \n",
       "3633  Howard Jones - VocalsJared Dines - GuitarHiram...          0.952570  \n",
       "3043  In this episode of What Makes This Song Great?...          0.950409  \n",
       "4451  펜타곤(PENTAGON) - 'DO or NOT' Official Music Vid...          0.948621  "
      ]
     },
     "execution_count": 36,
     "metadata": {},
     "output_type": "execute_result"
    }
   ],
   "source": [
    "final_results=results.head(10)\n",
    "final_results"
   ]
  },
  {
   "cell_type": "markdown",
   "id": "1dcd91e5",
   "metadata": {},
   "source": [
    "##### Inference: BERT is working well with title column. The results returned are according to the given input tag \"Music\""
   ]
  },
  {
   "cell_type": "markdown",
   "id": "dbecaa6b",
   "metadata": {},
   "source": [
    "## 2) SBERT on  Title column"
   ]
  },
  {
   "cell_type": "code",
   "execution_count": 13,
   "id": "85d917e4",
   "metadata": {},
   "outputs": [],
   "source": [
    "youtube = pd.read_csv('GB_videos_data.csv')\n",
    "youtube = youtube.drop_duplicates(subset = ['title'])\n",
    "youtube = youtube[['title', 'description']]\n",
    "youtube.columns = ['Title', 'Description']\n",
    "youtube['Title'] = youtube['Title'].apply(lambda x: x.lower())"
   ]
  },
  {
   "cell_type": "code",
   "execution_count": 14,
   "id": "b4439a1d",
   "metadata": {},
   "outputs": [],
   "source": [
    "# youtube['index']=[i for i in range(0,len(youtube))]"
   ]
  },
  {
   "cell_type": "code",
   "execution_count": 15,
   "id": "2b95f586",
   "metadata": {},
   "outputs": [
    {
     "data": {
      "text/html": [
       "<div>\n",
       "<style scoped>\n",
       "    .dataframe tbody tr th:only-of-type {\n",
       "        vertical-align: middle;\n",
       "    }\n",
       "\n",
       "    .dataframe tbody tr th {\n",
       "        vertical-align: top;\n",
       "    }\n",
       "\n",
       "    .dataframe thead th {\n",
       "        text-align: right;\n",
       "    }\n",
       "</style>\n",
       "<table border=\"1\" class=\"dataframe\">\n",
       "  <thead>\n",
       "    <tr style=\"text-align: right;\">\n",
       "      <th></th>\n",
       "      <th>Title</th>\n",
       "      <th>Description</th>\n",
       "    </tr>\n",
       "  </thead>\n",
       "  <tbody>\n",
       "    <tr>\n",
       "      <th>0</th>\n",
       "      <td>milan 0-3 inter | inter go four points clear w...</td>\n",
       "      <td>Inter breezed past Milan in the derby to go fo...</td>\n",
       "    </tr>\n",
       "    <tr>\n",
       "      <th>1</th>\n",
       "      <td>pe with joe 2021 | monday 22nd feb</td>\n",
       "      <td></td>\n",
       "    </tr>\n",
       "    <tr>\n",
       "      <th>2</th>\n",
       "      <td>cards against humanity phan edition!</td>\n",
       "      <td>We play an offensive card game ..created by Da...</td>\n",
       "    </tr>\n",
       "    <tr>\n",
       "      <th>3</th>\n",
       "      <td>highlights! david avanesyan crushes josh kelly...</td>\n",
       "      <td>►SUBSCRIBE http://bit.ly/SSBoxingSubJosh Kelly...</td>\n",
       "    </tr>\n",
       "    <tr>\n",
       "      <th>4</th>\n",
       "      <td>who is the best couple?!</td>\n",
       "      <td>This was so crazy, you will never guess who ma...</td>\n",
       "    </tr>\n",
       "    <tr>\n",
       "      <th>...</th>\n",
       "      <td>...</td>\n",
       "      <td>...</td>\n",
       "    </tr>\n",
       "    <tr>\n",
       "      <th>5869</th>\n",
       "      <td>nigella lawson so pretty but can she make ramen?</td>\n",
       "      <td>Niece and nephew, go watch Nephew Nigel podcas...</td>\n",
       "    </tr>\n",
       "    <tr>\n",
       "      <th>5872</th>\n",
       "      <td>youtube just isn't working for me anymore</td>\n",
       "      <td>I think I've reached my breaking point with Yo...</td>\n",
       "    </tr>\n",
       "    <tr>\n",
       "      <th>5880</th>\n",
       "      <td>solskjaer's last chance! pogba juve talks? man...</td>\n",
       "      <td>Man Utd must change under Solskjaer if United ...</td>\n",
       "    </tr>\n",
       "    <tr>\n",
       "      <th>5887</th>\n",
       "      <td>bloodcurdling facts that you wish you never kn...</td>\n",
       "      <td>► TikTok: https://www.tiktok.com/@fyp► Instagr...</td>\n",
       "    </tr>\n",
       "    <tr>\n",
       "      <th>5889</th>\n",
       "      <td>vikkstar's milk: a short story</td>\n",
       "      <td>What other clips do you want to see? Lets us k...</td>\n",
       "    </tr>\n",
       "  </tbody>\n",
       "</table>\n",
       "<p>1370 rows × 2 columns</p>\n",
       "</div>"
      ],
      "text/plain": [
       "                                                  Title  \\\n",
       "0     milan 0-3 inter | inter go four points clear w...   \n",
       "1                    pe with joe 2021 | monday 22nd feb   \n",
       "2                  cards against humanity phan edition!   \n",
       "3     highlights! david avanesyan crushes josh kelly...   \n",
       "4                              who is the best couple?!   \n",
       "...                                                 ...   \n",
       "5869   nigella lawson so pretty but can she make ramen?   \n",
       "5872          youtube just isn't working for me anymore   \n",
       "5880  solskjaer's last chance! pogba juve talks? man...   \n",
       "5887  bloodcurdling facts that you wish you never kn...   \n",
       "5889                     vikkstar's milk: a short story   \n",
       "\n",
       "                                            Description  \n",
       "0     Inter breezed past Milan in the derby to go fo...  \n",
       "1                                                        \n",
       "2     We play an offensive card game ..created by Da...  \n",
       "3     ►SUBSCRIBE http://bit.ly/SSBoxingSubJosh Kelly...  \n",
       "4     This was so crazy, you will never guess who ma...  \n",
       "...                                                 ...  \n",
       "5869  Niece and nephew, go watch Nephew Nigel podcas...  \n",
       "5872  I think I've reached my breaking point with Yo...  \n",
       "5880  Man Utd must change under Solskjaer if United ...  \n",
       "5887  ► TikTok: https://www.tiktok.com/@fyp► Instagr...  \n",
       "5889  What other clips do you want to see? Lets us k...  \n",
       "\n",
       "[1370 rows x 2 columns]"
      ]
     },
     "execution_count": 15,
     "metadata": {},
     "output_type": "execute_result"
    }
   ],
   "source": [
    "youtube"
   ]
  },
  {
   "cell_type": "code",
   "execution_count": 16,
   "id": "75469335",
   "metadata": {},
   "outputs": [],
   "source": [
    "youtube=youtube.reset_index(drop=True)"
   ]
  },
  {
   "cell_type": "code",
   "execution_count": 17,
   "id": "525b2552",
   "metadata": {},
   "outputs": [
    {
     "data": {
      "text/html": [
       "<div>\n",
       "<style scoped>\n",
       "    .dataframe tbody tr th:only-of-type {\n",
       "        vertical-align: middle;\n",
       "    }\n",
       "\n",
       "    .dataframe tbody tr th {\n",
       "        vertical-align: top;\n",
       "    }\n",
       "\n",
       "    .dataframe thead th {\n",
       "        text-align: right;\n",
       "    }\n",
       "</style>\n",
       "<table border=\"1\" class=\"dataframe\">\n",
       "  <thead>\n",
       "    <tr style=\"text-align: right;\">\n",
       "      <th></th>\n",
       "      <th>Title</th>\n",
       "      <th>Description</th>\n",
       "    </tr>\n",
       "  </thead>\n",
       "  <tbody>\n",
       "    <tr>\n",
       "      <th>0</th>\n",
       "      <td>milan 0-3 inter | inter go four points clear w...</td>\n",
       "      <td>Inter breezed past Milan in the derby to go fo...</td>\n",
       "    </tr>\n",
       "    <tr>\n",
       "      <th>1</th>\n",
       "      <td>pe with joe 2021 | monday 22nd feb</td>\n",
       "      <td></td>\n",
       "    </tr>\n",
       "    <tr>\n",
       "      <th>2</th>\n",
       "      <td>cards against humanity phan edition!</td>\n",
       "      <td>We play an offensive card game ..created by Da...</td>\n",
       "    </tr>\n",
       "    <tr>\n",
       "      <th>3</th>\n",
       "      <td>highlights! david avanesyan crushes josh kelly...</td>\n",
       "      <td>►SUBSCRIBE http://bit.ly/SSBoxingSubJosh Kelly...</td>\n",
       "    </tr>\n",
       "    <tr>\n",
       "      <th>4</th>\n",
       "      <td>who is the best couple?!</td>\n",
       "      <td>This was so crazy, you will never guess who ma...</td>\n",
       "    </tr>\n",
       "    <tr>\n",
       "      <th>...</th>\n",
       "      <td>...</td>\n",
       "      <td>...</td>\n",
       "    </tr>\n",
       "    <tr>\n",
       "      <th>1365</th>\n",
       "      <td>nigella lawson so pretty but can she make ramen?</td>\n",
       "      <td>Niece and nephew, go watch Nephew Nigel podcas...</td>\n",
       "    </tr>\n",
       "    <tr>\n",
       "      <th>1366</th>\n",
       "      <td>youtube just isn't working for me anymore</td>\n",
       "      <td>I think I've reached my breaking point with Yo...</td>\n",
       "    </tr>\n",
       "    <tr>\n",
       "      <th>1367</th>\n",
       "      <td>solskjaer's last chance! pogba juve talks? man...</td>\n",
       "      <td>Man Utd must change under Solskjaer if United ...</td>\n",
       "    </tr>\n",
       "    <tr>\n",
       "      <th>1368</th>\n",
       "      <td>bloodcurdling facts that you wish you never kn...</td>\n",
       "      <td>► TikTok: https://www.tiktok.com/@fyp► Instagr...</td>\n",
       "    </tr>\n",
       "    <tr>\n",
       "      <th>1369</th>\n",
       "      <td>vikkstar's milk: a short story</td>\n",
       "      <td>What other clips do you want to see? Lets us k...</td>\n",
       "    </tr>\n",
       "  </tbody>\n",
       "</table>\n",
       "<p>1370 rows × 2 columns</p>\n",
       "</div>"
      ],
      "text/plain": [
       "                                                  Title  \\\n",
       "0     milan 0-3 inter | inter go four points clear w...   \n",
       "1                    pe with joe 2021 | monday 22nd feb   \n",
       "2                  cards against humanity phan edition!   \n",
       "3     highlights! david avanesyan crushes josh kelly...   \n",
       "4                              who is the best couple?!   \n",
       "...                                                 ...   \n",
       "1365   nigella lawson so pretty but can she make ramen?   \n",
       "1366          youtube just isn't working for me anymore   \n",
       "1367  solskjaer's last chance! pogba juve talks? man...   \n",
       "1368  bloodcurdling facts that you wish you never kn...   \n",
       "1369                     vikkstar's milk: a short story   \n",
       "\n",
       "                                            Description  \n",
       "0     Inter breezed past Milan in the derby to go fo...  \n",
       "1                                                        \n",
       "2     We play an offensive card game ..created by Da...  \n",
       "3     ►SUBSCRIBE http://bit.ly/SSBoxingSubJosh Kelly...  \n",
       "4     This was so crazy, you will never guess who ma...  \n",
       "...                                                 ...  \n",
       "1365  Niece and nephew, go watch Nephew Nigel podcas...  \n",
       "1366  I think I've reached my breaking point with Yo...  \n",
       "1367  Man Utd must change under Solskjaer if United ...  \n",
       "1368  ► TikTok: https://www.tiktok.com/@fyp► Instagr...  \n",
       "1369  What other clips do you want to see? Lets us k...  \n",
       "\n",
       "[1370 rows x 2 columns]"
      ]
     },
     "execution_count": 17,
     "metadata": {},
     "output_type": "execute_result"
    }
   ],
   "source": [
    "youtube"
   ]
  },
  {
   "cell_type": "code",
   "execution_count": 18,
   "id": "d2d4fa6b",
   "metadata": {},
   "outputs": [],
   "source": [
    "# def title(index):\n",
    "#     return youtube[youtube.index==index]['Title'].values[0]\n",
    "\n",
    "# def index(Title):\n",
    "#     return youtube[youtube.Title==Title]['index'].values[0]"
   ]
  },
  {
   "cell_type": "code",
   "execution_count": 37,
   "id": "1d9be849",
   "metadata": {},
   "outputs": [],
   "source": [
    "from sentence_transformers import SentenceTransformer"
   ]
  },
  {
   "cell_type": "code",
   "execution_count": 38,
   "id": "cc54718f",
   "metadata": {},
   "outputs": [],
   "source": [
    "# youtube[youtube.Title==\"Football\"]['index']"
   ]
  },
  {
   "cell_type": "code",
   "execution_count": 39,
   "id": "1055882a",
   "metadata": {},
   "outputs": [],
   "source": [
    "sbert=SentenceTransformer('all-MiniLM-L6-v2')"
   ]
  },
  {
   "cell_type": "code",
   "execution_count": 40,
   "id": "9143cf27",
   "metadata": {},
   "outputs": [
    {
     "name": "stdout",
     "output_type": "stream",
     "text": [
      "--- 14.160491466522217 seconds ---\n"
     ]
    }
   ],
   "source": [
    "start_time = time.time()\n",
    "sentence_emb=sbert.encode(youtube['Title'].tolist())\n",
    "print(\"--- %s seconds ---\" % (time.time() - start_time))\n"
   ]
  },
  {
   "cell_type": "markdown",
   "id": "658548e6",
   "metadata": {},
   "source": [
    "##### Inference: It only took 14 econds for SBERT to run on title column"
   ]
  },
  {
   "cell_type": "code",
   "execution_count": 41,
   "id": "1a185382",
   "metadata": {},
   "outputs": [
    {
     "data": {
      "text/plain": [
       "array([[-0.0906276 ,  0.09738562, -0.00137586, ...,  0.01960378,\n",
       "        -0.06531686,  0.01742022],\n",
       "       [-0.05565025,  0.03366059,  0.00368718, ..., -0.06715932,\n",
       "        -0.04094475, -0.03570421],\n",
       "       [-0.09258084,  0.1110369 , -0.04113927, ..., -0.03599366,\n",
       "        -0.05138804,  0.0741779 ],\n",
       "       ...,\n",
       "       [-0.05239312,  0.03886008,  0.03703387, ..., -0.01047035,\n",
       "        -0.04757101,  0.04726708],\n",
       "       [-0.00348634,  0.1059471 ,  0.00174361, ...,  0.01416963,\n",
       "        -0.04224442, -0.04140633],\n",
       "       [-0.00710211,  0.04435631, -0.03698041, ...,  0.0213952 ,\n",
       "         0.08395005,  0.04220301]], dtype=float32)"
      ]
     },
     "execution_count": 41,
     "metadata": {},
     "output_type": "execute_result"
    }
   ],
   "source": [
    "sentence_emb"
   ]
  },
  {
   "cell_type": "code",
   "execution_count": 42,
   "id": "57feb198",
   "metadata": {},
   "outputs": [
    {
     "data": {
      "text/plain": [
       "(1370, 384)"
      ]
     },
     "execution_count": 42,
     "metadata": {},
     "output_type": "execute_result"
    }
   ],
   "source": [
    "np.shape(sentence_emb)"
   ]
  },
  {
   "cell_type": "code",
   "execution_count": 43,
   "id": "891956c8",
   "metadata": {},
   "outputs": [
    {
     "name": "stdout",
     "output_type": "stream",
     "text": [
      "Enter your tag hereFootball\n"
     ]
    }
   ],
   "source": [
    "inp_val=input('Enter your tag here')\n",
    "inp_val=inp_val.lower()\n",
    "inp=[]\n",
    "inp.append(inp_val)"
   ]
  },
  {
   "cell_type": "code",
   "execution_count": 44,
   "id": "a1f8bfa1",
   "metadata": {},
   "outputs": [],
   "source": [
    "inp_emb=sbert.encode(inp)"
   ]
  },
  {
   "cell_type": "code",
   "execution_count": 45,
   "id": "e72d386a",
   "metadata": {},
   "outputs": [],
   "source": [
    "youtube['SbertEmb']=''"
   ]
  },
  {
   "cell_type": "code",
   "execution_count": 46,
   "id": "449afd73",
   "metadata": {},
   "outputs": [
    {
     "name": "stderr",
     "output_type": "stream",
     "text": [
      "<ipython-input-46-6c894953625d>:2: SettingWithCopyWarning: \n",
      "A value is trying to be set on a copy of a slice from a DataFrame\n",
      "\n",
      "See the caveats in the documentation: https://pandas.pydata.org/pandas-docs/stable/user_guide/indexing.html#returning-a-view-versus-a-copy\n",
      "  youtube['SbertEmb'][i]=sentence_emb[i]\n"
     ]
    }
   ],
   "source": [
    "for i in range(0,np.shape(sentence_emb)[0]):\n",
    "    youtube['SbertEmb'][i]=sentence_emb[i]"
   ]
  },
  {
   "cell_type": "code",
   "execution_count": 47,
   "id": "bdaa7d32",
   "metadata": {},
   "outputs": [],
   "source": [
    "# youtube"
   ]
  },
  {
   "cell_type": "code",
   "execution_count": 48,
   "id": "91a9ba71",
   "metadata": {},
   "outputs": [],
   "source": [
    "youtube['similarity_score']=youtube['SbertEmb'].apply(lambda x:metrics.pairwise.cosine_similarity(np.array(x).reshape(1,-1).tolist(),inp_emb)[0][0])"
   ]
  },
  {
   "cell_type": "code",
   "execution_count": 49,
   "id": "9a6db582",
   "metadata": {},
   "outputs": [],
   "source": [
    "df_results_SBert=youtube.sort_values(by=['similarity_score'], ascending=False)"
   ]
  },
  {
   "cell_type": "code",
   "execution_count": 50,
   "id": "2657d9a5",
   "metadata": {},
   "outputs": [
    {
     "data": {
      "text/html": [
       "<div>\n",
       "<style scoped>\n",
       "    .dataframe tbody tr th:only-of-type {\n",
       "        vertical-align: middle;\n",
       "    }\n",
       "\n",
       "    .dataframe tbody tr th {\n",
       "        vertical-align: top;\n",
       "    }\n",
       "\n",
       "    .dataframe thead th {\n",
       "        text-align: right;\n",
       "    }\n",
       "</style>\n",
       "<table border=\"1\" class=\"dataframe\">\n",
       "  <thead>\n",
       "    <tr style=\"text-align: right;\">\n",
       "      <th></th>\n",
       "      <th>Title</th>\n",
       "      <th>Description</th>\n",
       "      <th>SbertEmb</th>\n",
       "      <th>similarity_score</th>\n",
       "    </tr>\n",
       "  </thead>\n",
       "  <tbody>\n",
       "    <tr>\n",
       "      <th>1178</th>\n",
       "      <td>criminal fossil football, a disgrace, out of e...</td>\n",
       "      <td>#COYS \\rSUBSCRIBE BELOW\\r\\rINSTAGRAM\\rhttps://...</td>\n",
       "      <td>[-0.030581718, 0.09058389, 0.017611284, -0.102...</td>\n",
       "      <td>0.412248</td>\n",
       "    </tr>\n",
       "    <tr>\n",
       "      <th>311</th>\n",
       "      <td>state of play | february 25, 2021 [english]</td>\n",
       "      <td>Rated RP - T, THIS LIVE STREAM MAY INCLUDE CON...</td>\n",
       "      <td>[-0.019910697, -0.015395581, 0.041973628, -0.0...</td>\n",
       "      <td>0.407070</td>\n",
       "    </tr>\n",
       "    <tr>\n",
       "      <th>1163</th>\n",
       "      <td>man city are ruining football! goldbridge reacts</td>\n",
       "      <td>Mark Goldbridge says Man City are ruining foot...</td>\n",
       "      <td>[0.035649724, 0.027067587, 0.067696184, -0.015...</td>\n",
       "      <td>0.394250</td>\n",
       "    </tr>\n",
       "    <tr>\n",
       "      <th>689</th>\n",
       "      <td>bayern munich vs borussia dortmund (4-2) | lew...</td>\n",
       "      <td>Robert Lewandowski's hat-trick cancels out an ...</td>\n",
       "      <td>[-0.03715913, 0.16277362, -0.059222616, -0.038...</td>\n",
       "      <td>0.353348</td>\n",
       "    </tr>\n",
       "    <tr>\n",
       "      <th>1042</th>\n",
       "      <td>england v france (23-20) | guinness six nation...</td>\n",
       "      <td>Subscribe to ITV Sport: https://www.youtube.co...</td>\n",
       "      <td>[-0.0077256616, 0.06280544, -0.033587497, -0.0...</td>\n",
       "      <td>0.350763</td>\n",
       "    </tr>\n",
       "    <tr>\n",
       "      <th>107</th>\n",
       "      <td>real sociedad vs. manchester united (0-4) | br...</td>\n",
       "      <td>Man Utd all but secured passage to the next ro...</td>\n",
       "      <td>[-0.029222785, 0.04029777, -0.0887379, -0.0575...</td>\n",
       "      <td>0.348186</td>\n",
       "    </tr>\n",
       "    <tr>\n",
       "      <th>1340</th>\n",
       "      <td>ball magic #shorts</td>\n",
       "      <td>my first #short 👅https://www.curiositybox.com</td>\n",
       "      <td>[0.024592932, 0.10318325, 0.011696474, -0.0606...</td>\n",
       "      <td>0.344452</td>\n",
       "    </tr>\n",
       "    <tr>\n",
       "      <th>1275</th>\n",
       "      <td>leicester city v manchester united | key momen...</td>\n",
       "      <td>Leicester City hosted Manchester United in the...</td>\n",
       "      <td>[0.00399212, 0.07509963, -0.07613443, -0.01144...</td>\n",
       "      <td>0.341071</td>\n",
       "    </tr>\n",
       "    <tr>\n",
       "      <th>1349</th>\n",
       "      <td>video games in real life</td>\n",
       "      <td>From Rust to Among Us, here’s what your favori...</td>\n",
       "      <td>[-0.042335514, -0.021696538, -0.03548399, -0.0...</td>\n",
       "      <td>0.337534</td>\n",
       "    </tr>\n",
       "    <tr>\n",
       "      <th>975</th>\n",
       "      <td>pregnant!</td>\n",
       "      <td>Pregnant! All of our videos are closed caption...</td>\n",
       "      <td>[-0.06418139, 0.0065174005, -0.00035676156, 0....</td>\n",
       "      <td>0.335168</td>\n",
       "    </tr>\n",
       "  </tbody>\n",
       "</table>\n",
       "</div>"
      ],
      "text/plain": [
       "                                                  Title  \\\n",
       "1178  criminal fossil football, a disgrace, out of e...   \n",
       "311         state of play | february 25, 2021 [english]   \n",
       "1163   man city are ruining football! goldbridge reacts   \n",
       "689   bayern munich vs borussia dortmund (4-2) | lew...   \n",
       "1042  england v france (23-20) | guinness six nation...   \n",
       "107   real sociedad vs. manchester united (0-4) | br...   \n",
       "1340                                 ball magic #shorts   \n",
       "1275  leicester city v manchester united | key momen...   \n",
       "1349                           video games in real life   \n",
       "975                                           pregnant!   \n",
       "\n",
       "                                            Description  \\\n",
       "1178  #COYS \\rSUBSCRIBE BELOW\\r\\rINSTAGRAM\\rhttps://...   \n",
       "311   Rated RP - T, THIS LIVE STREAM MAY INCLUDE CON...   \n",
       "1163  Mark Goldbridge says Man City are ruining foot...   \n",
       "689   Robert Lewandowski's hat-trick cancels out an ...   \n",
       "1042  Subscribe to ITV Sport: https://www.youtube.co...   \n",
       "107   Man Utd all but secured passage to the next ro...   \n",
       "1340      my first #short 👅https://www.curiositybox.com   \n",
       "1275  Leicester City hosted Manchester United in the...   \n",
       "1349  From Rust to Among Us, here’s what your favori...   \n",
       "975   Pregnant! All of our videos are closed caption...   \n",
       "\n",
       "                                               SbertEmb  similarity_score  \n",
       "1178  [-0.030581718, 0.09058389, 0.017611284, -0.102...          0.412248  \n",
       "311   [-0.019910697, -0.015395581, 0.041973628, -0.0...          0.407070  \n",
       "1163  [0.035649724, 0.027067587, 0.067696184, -0.015...          0.394250  \n",
       "689   [-0.03715913, 0.16277362, -0.059222616, -0.038...          0.353348  \n",
       "1042  [-0.0077256616, 0.06280544, -0.033587497, -0.0...          0.350763  \n",
       "107   [-0.029222785, 0.04029777, -0.0887379, -0.0575...          0.348186  \n",
       "1340  [0.024592932, 0.10318325, 0.011696474, -0.0606...          0.344452  \n",
       "1275  [0.00399212, 0.07509963, -0.07613443, -0.01144...          0.341071  \n",
       "1349  [-0.042335514, -0.021696538, -0.03548399, -0.0...          0.337534  \n",
       "975   [-0.06418139, 0.0065174005, -0.00035676156, 0....          0.335168  "
      ]
     },
     "execution_count": 50,
     "metadata": {},
     "output_type": "execute_result"
    }
   ],
   "source": [
    "df_results_SBert.head(10)"
   ]
  },
  {
   "cell_type": "markdown",
   "id": "dc40a0c0",
   "metadata": {},
   "source": [
    "##### Inference: Even with lower similarity scores, SBERT shows pretty accurate results"
   ]
  },
  {
   "cell_type": "markdown",
   "id": "49f695f6",
   "metadata": {},
   "source": [
    "### continued in second report......."
   ]
  }
 ],
 "metadata": {
  "kernelspec": {
   "display_name": "Python 3 (ipykernel)",
   "language": "python",
   "name": "python3"
  },
  "language_info": {
   "codemirror_mode": {
    "name": "ipython",
    "version": 3
   },
   "file_extension": ".py",
   "mimetype": "text/x-python",
   "name": "python",
   "nbconvert_exporter": "python",
   "pygments_lexer": "ipython3",
   "version": "3.11.5"
  }
 },
 "nbformat": 4,
 "nbformat_minor": 5
}
